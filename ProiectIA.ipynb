{
  "nbformat": 4,
  "nbformat_minor": 0,
  "metadata": {
    "colab": {
      "name": "ProiectIA.ipynb",
      "provenance": [],
      "collapsed_sections": []
    },
    "kernelspec": {
      "name": "python3",
      "display_name": "Python 3"
    },
    "language_info": {
      "name": "python"
    }
  },
  "cells": [
    {
      "cell_type": "code",
      "execution_count": 12,
      "metadata": {
        "colab": {
          "base_uri": "https://localhost:8080/",
          "height": 423
        },
        "id": "oVOv5PHsV9WZ",
        "outputId": "0f190ec7-f017-4375-ece5-e85b23dc2ec8"
      },
      "outputs": [
        {
          "output_type": "execute_result",
          "data": {
            "text/plain": [
              "    Brand  Frecventa casti  Frecventa microfon  Impedanta   Pret\n",
              "0       1            20000               20000       39.0  mediu\n",
              "1       1            20000                6500       22.0    mic\n",
              "2       1            20000                8000       45.0  mediu\n",
              "3       1            20000                8000       45.0  mediu\n",
              "4       1            20000                8000       45.0   mare\n",
              "..    ...              ...                 ...        ...    ...\n",
              "69      5            40000               10000       35.0   mare\n",
              "70      5            20000               10000       32.0  mediu\n",
              "71      5            40000                8000       32.0   mare\n",
              "72      6            20000               10000       32.0  mediu\n",
              "73      6            40000               10000       32.0   mare\n",
              "\n",
              "[74 rows x 5 columns]"
            ],
            "text/html": [
              "\n",
              "  <div id=\"df-97d6c731-d10b-43b2-b005-706707cdd964\">\n",
              "    <div class=\"colab-df-container\">\n",
              "      <div>\n",
              "<style scoped>\n",
              "    .dataframe tbody tr th:only-of-type {\n",
              "        vertical-align: middle;\n",
              "    }\n",
              "\n",
              "    .dataframe tbody tr th {\n",
              "        vertical-align: top;\n",
              "    }\n",
              "\n",
              "    .dataframe thead th {\n",
              "        text-align: right;\n",
              "    }\n",
              "</style>\n",
              "<table border=\"1\" class=\"dataframe\">\n",
              "  <thead>\n",
              "    <tr style=\"text-align: right;\">\n",
              "      <th></th>\n",
              "      <th>Brand</th>\n",
              "      <th>Frecventa casti</th>\n",
              "      <th>Frecventa microfon</th>\n",
              "      <th>Impedanta</th>\n",
              "      <th>Pret</th>\n",
              "    </tr>\n",
              "  </thead>\n",
              "  <tbody>\n",
              "    <tr>\n",
              "      <th>0</th>\n",
              "      <td>1</td>\n",
              "      <td>20000</td>\n",
              "      <td>20000</td>\n",
              "      <td>39.0</td>\n",
              "      <td>mediu</td>\n",
              "    </tr>\n",
              "    <tr>\n",
              "      <th>1</th>\n",
              "      <td>1</td>\n",
              "      <td>20000</td>\n",
              "      <td>6500</td>\n",
              "      <td>22.0</td>\n",
              "      <td>mic</td>\n",
              "    </tr>\n",
              "    <tr>\n",
              "      <th>2</th>\n",
              "      <td>1</td>\n",
              "      <td>20000</td>\n",
              "      <td>8000</td>\n",
              "      <td>45.0</td>\n",
              "      <td>mediu</td>\n",
              "    </tr>\n",
              "    <tr>\n",
              "      <th>3</th>\n",
              "      <td>1</td>\n",
              "      <td>20000</td>\n",
              "      <td>8000</td>\n",
              "      <td>45.0</td>\n",
              "      <td>mediu</td>\n",
              "    </tr>\n",
              "    <tr>\n",
              "      <th>4</th>\n",
              "      <td>1</td>\n",
              "      <td>20000</td>\n",
              "      <td>8000</td>\n",
              "      <td>45.0</td>\n",
              "      <td>mare</td>\n",
              "    </tr>\n",
              "    <tr>\n",
              "      <th>...</th>\n",
              "      <td>...</td>\n",
              "      <td>...</td>\n",
              "      <td>...</td>\n",
              "      <td>...</td>\n",
              "      <td>...</td>\n",
              "    </tr>\n",
              "    <tr>\n",
              "      <th>69</th>\n",
              "      <td>5</td>\n",
              "      <td>40000</td>\n",
              "      <td>10000</td>\n",
              "      <td>35.0</td>\n",
              "      <td>mare</td>\n",
              "    </tr>\n",
              "    <tr>\n",
              "      <th>70</th>\n",
              "      <td>5</td>\n",
              "      <td>20000</td>\n",
              "      <td>10000</td>\n",
              "      <td>32.0</td>\n",
              "      <td>mediu</td>\n",
              "    </tr>\n",
              "    <tr>\n",
              "      <th>71</th>\n",
              "      <td>5</td>\n",
              "      <td>40000</td>\n",
              "      <td>8000</td>\n",
              "      <td>32.0</td>\n",
              "      <td>mare</td>\n",
              "    </tr>\n",
              "    <tr>\n",
              "      <th>72</th>\n",
              "      <td>6</td>\n",
              "      <td>20000</td>\n",
              "      <td>10000</td>\n",
              "      <td>32.0</td>\n",
              "      <td>mediu</td>\n",
              "    </tr>\n",
              "    <tr>\n",
              "      <th>73</th>\n",
              "      <td>6</td>\n",
              "      <td>40000</td>\n",
              "      <td>10000</td>\n",
              "      <td>32.0</td>\n",
              "      <td>mare</td>\n",
              "    </tr>\n",
              "  </tbody>\n",
              "</table>\n",
              "<p>74 rows × 5 columns</p>\n",
              "</div>\n",
              "      <button class=\"colab-df-convert\" onclick=\"convertToInteractive('df-97d6c731-d10b-43b2-b005-706707cdd964')\"\n",
              "              title=\"Convert this dataframe to an interactive table.\"\n",
              "              style=\"display:none;\">\n",
              "        \n",
              "  <svg xmlns=\"http://www.w3.org/2000/svg\" height=\"24px\"viewBox=\"0 0 24 24\"\n",
              "       width=\"24px\">\n",
              "    <path d=\"M0 0h24v24H0V0z\" fill=\"none\"/>\n",
              "    <path d=\"M18.56 5.44l.94 2.06.94-2.06 2.06-.94-2.06-.94-.94-2.06-.94 2.06-2.06.94zm-11 1L8.5 8.5l.94-2.06 2.06-.94-2.06-.94L8.5 2.5l-.94 2.06-2.06.94zm10 10l.94 2.06.94-2.06 2.06-.94-2.06-.94-.94-2.06-.94 2.06-2.06.94z\"/><path d=\"M17.41 7.96l-1.37-1.37c-.4-.4-.92-.59-1.43-.59-.52 0-1.04.2-1.43.59L10.3 9.45l-7.72 7.72c-.78.78-.78 2.05 0 2.83L4 21.41c.39.39.9.59 1.41.59.51 0 1.02-.2 1.41-.59l7.78-7.78 2.81-2.81c.8-.78.8-2.07 0-2.86zM5.41 20L4 18.59l7.72-7.72 1.47 1.35L5.41 20z\"/>\n",
              "  </svg>\n",
              "      </button>\n",
              "      \n",
              "  <style>\n",
              "    .colab-df-container {\n",
              "      display:flex;\n",
              "      flex-wrap:wrap;\n",
              "      gap: 12px;\n",
              "    }\n",
              "\n",
              "    .colab-df-convert {\n",
              "      background-color: #E8F0FE;\n",
              "      border: none;\n",
              "      border-radius: 50%;\n",
              "      cursor: pointer;\n",
              "      display: none;\n",
              "      fill: #1967D2;\n",
              "      height: 32px;\n",
              "      padding: 0 0 0 0;\n",
              "      width: 32px;\n",
              "    }\n",
              "\n",
              "    .colab-df-convert:hover {\n",
              "      background-color: #E2EBFA;\n",
              "      box-shadow: 0px 1px 2px rgba(60, 64, 67, 0.3), 0px 1px 3px 1px rgba(60, 64, 67, 0.15);\n",
              "      fill: #174EA6;\n",
              "    }\n",
              "\n",
              "    [theme=dark] .colab-df-convert {\n",
              "      background-color: #3B4455;\n",
              "      fill: #D2E3FC;\n",
              "    }\n",
              "\n",
              "    [theme=dark] .colab-df-convert:hover {\n",
              "      background-color: #434B5C;\n",
              "      box-shadow: 0px 1px 3px 1px rgba(0, 0, 0, 0.15);\n",
              "      filter: drop-shadow(0px 1px 2px rgba(0, 0, 0, 0.3));\n",
              "      fill: #FFFFFF;\n",
              "    }\n",
              "  </style>\n",
              "\n",
              "      <script>\n",
              "        const buttonEl =\n",
              "          document.querySelector('#df-97d6c731-d10b-43b2-b005-706707cdd964 button.colab-df-convert');\n",
              "        buttonEl.style.display =\n",
              "          google.colab.kernel.accessAllowed ? 'block' : 'none';\n",
              "\n",
              "        async function convertToInteractive(key) {\n",
              "          const element = document.querySelector('#df-97d6c731-d10b-43b2-b005-706707cdd964');\n",
              "          const dataTable =\n",
              "            await google.colab.kernel.invokeFunction('convertToInteractive',\n",
              "                                                     [key], {});\n",
              "          if (!dataTable) return;\n",
              "\n",
              "          const docLinkHtml = 'Like what you see? Visit the ' +\n",
              "            '<a target=\"_blank\" href=https://colab.research.google.com/notebooks/data_table.ipynb>data table notebook</a>'\n",
              "            + ' to learn more about interactive tables.';\n",
              "          element.innerHTML = '';\n",
              "          dataTable['output_type'] = 'display_data';\n",
              "          await google.colab.output.renderOutput(dataTable, element);\n",
              "          const docLink = document.createElement('div');\n",
              "          docLink.innerHTML = docLinkHtml;\n",
              "          element.appendChild(docLink);\n",
              "        }\n",
              "      </script>\n",
              "    </div>\n",
              "  </div>\n",
              "  "
            ]
          },
          "metadata": {},
          "execution_count": 12
        }
      ],
      "source": [
        "import pandas as pd\n",
        "import numpy as np\n",
        "import seaborn as sns\n",
        "from sklearn.tree import DecisionTreeClassifier\n",
        "from sklearn.model_selection import train_test_split\n",
        "from sklearn.metrics import mean_squared_error, r2_score, accuracy_score\n",
        "import pandas as pd\n",
        "from keras.models import Sequential\n",
        "from keras.layers import Dense\n",
        "# import numpy as np\n",
        "# import pandas as pd\n",
        "# import seaborn as sns\n",
        "import matplotlib.pyplot as plt\n",
        "%matplotlib inline\n",
        "\n",
        "# https://machinelearningknowledge.ai/decision-tree-classifier-in-python-sklearn-with-example/\n",
        "# https://thepythonguru.com/python-string-formatting/\n",
        "\n",
        "#incarc datele\n",
        "casti = pd.read_csv('nn2.csv')\n",
        "\n",
        "#Transform data\n",
        "casti.head(74)"
      ]
    },
    {
      "cell_type": "code",
      "source": [
        "print(casti.shape)\n",
        "casti.info()\n",
        "# sns.countplot(casti['Pret'])\n",
        "# sns.countplot(casti['Frecventa casti'],hue=casti['Pret'])\n",
        "sns.countplot(casti['Impedanta'],hue=casti['Pret'])"
      ],
      "metadata": {
        "colab": {
          "base_uri": "https://localhost:8080/",
          "height": 594
        },
        "id": "gvPRcKAJGbZn",
        "outputId": "f3a9f17b-6677-470c-b1fd-2997f4c9dfdd"
      },
      "execution_count": 13,
      "outputs": [
        {
          "output_type": "stream",
          "name": "stdout",
          "text": [
            "(79, 5)\n",
            "<class 'pandas.core.frame.DataFrame'>\n",
            "RangeIndex: 79 entries, 0 to 78\n",
            "Data columns (total 5 columns):\n",
            " #   Column              Non-Null Count  Dtype  \n",
            "---  ------              --------------  -----  \n",
            " 0   Brand               79 non-null     int64  \n",
            " 1   Frecventa casti     79 non-null     int64  \n",
            " 2   Frecventa microfon  79 non-null     int64  \n",
            " 3   Impedanta           79 non-null     float64\n",
            " 4   Pret                79 non-null     object \n",
            "dtypes: float64(1), int64(3), object(1)\n",
            "memory usage: 3.2+ KB\n"
          ]
        },
        {
          "output_type": "stream",
          "name": "stderr",
          "text": [
            "/usr/local/lib/python3.7/dist-packages/seaborn/_decorators.py:43: FutureWarning: Pass the following variable as a keyword arg: x. From version 0.12, the only valid positional argument will be `data`, and passing other arguments without an explicit keyword will result in an error or misinterpretation.\n",
            "  FutureWarning\n"
          ]
        },
        {
          "output_type": "execute_result",
          "data": {
            "text/plain": [
              "<matplotlib.axes._subplots.AxesSubplot at 0x7f5f42417350>"
            ]
          },
          "metadata": {},
          "execution_count": 13
        },
        {
          "output_type": "display_data",
          "data": {
            "text/plain": [
              "<Figure size 432x288 with 1 Axes>"
            ],
            "image/png": "[encoded data removed]"
          },
          "metadata": {
            "needs_background": "light"
          }
        }
      ]
    },
    {
      "cell_type": "code",
      "source": [
        "f=['Pret','Brand','Frecventa casti','Frecventa microfon','Impedanta']\n",
        "casti1=casti[f]\n",
        "\n",
        "#impart setul de date: prima coloana de iesire(pret), celelalte 4 de intrare \n",
        "x=casti1[f[1:]]\n",
        "y=casti1['Pret']\n",
        "\n",
        "x.head(79)"
      ],
      "metadata": {
        "colab": {
          "base_uri": "https://localhost:8080/",
          "height": 423
        },
        "id": "ptg2jDOaGgef",
        "outputId": "9f62ed8f-b146-43fc-a9b1-77d9252e8bef"
      },
      "execution_count": 14,
      "outputs": [
        {
          "output_type": "execute_result",
          "data": {
            "text/plain": [
              "    Brand  Frecventa casti  Frecventa microfon  Impedanta\n",
              "0       1            20000               20000       39.0\n",
              "1       1            20000                6500       22.0\n",
              "2       1            20000                8000       45.0\n",
              "3       1            20000                8000       45.0\n",
              "4       1            20000                8000       45.0\n",
              "..    ...              ...                 ...        ...\n",
              "74      6            40000               10000       32.0\n",
              "75      6            22000               10000       32.0\n",
              "76      6            40000               12000       35.0\n",
              "77      6            20000               10000       32.0\n",
              "78      6            20000                6500       32.0\n",
              "\n",
              "[79 rows x 4 columns]"
            ],
            "text/html": [
              "\n",
              "  <div id=\"df-2d19e4c6-47de-4bfc-91b3-1f72c1d9a266\">\n",
              "    <div class=\"colab-df-container\">\n",
              "      <div>\n",
              "<style scoped>\n",
              "    .dataframe tbody tr th:only-of-type {\n",
              "        vertical-align: middle;\n",
              "    }\n",
              "\n",
              "    .dataframe tbody tr th {\n",
              "        vertical-align: top;\n",
              "    }\n",
              "\n",
              "    .dataframe thead th {\n",
              "        text-align: right;\n",
              "    }\n",
              "</style>\n",
              "<table border=\"1\" class=\"dataframe\">\n",
              "  <thead>\n",
              "    <tr style=\"text-align: right;\">\n",
              "      <th></th>\n",
              "      <th>Brand</th>\n",
              "      <th>Frecventa casti</th>\n",
              "      <th>Frecventa microfon</th>\n",
              "      <th>Impedanta</th>\n",
              "    </tr>\n",
              "  </thead>\n",
              "  <tbody>\n",
              "    <tr>\n",
              "      <th>0</th>\n",
              "      <td>1</td>\n",
              "      <td>20000</td>\n",
              "      <td>20000</td>\n",
              "      <td>39.0</td>\n",
              "    </tr>\n",
              "    <tr>\n",
              "      <th>1</th>\n",
              "      <td>1</td>\n",
              "      <td>20000</td>\n",
              "      <td>6500</td>\n",
              "      <td>22.0</td>\n",
              "    </tr>\n",
              "    <tr>\n",
              "      <th>2</th>\n",
              "      <td>1</td>\n",
              "      <td>20000</td>\n",
              "      <td>8000</td>\n",
              "      <td>45.0</td>\n",
              "    </tr>\n",
              "    <tr>\n",
              "      <th>3</th>\n",
              "      <td>1</td>\n",
              "      <td>20000</td>\n",
              "      <td>8000</td>\n",
              "      <td>45.0</td>\n",
              "    </tr>\n",
              "    <tr>\n",
              "      <th>4</th>\n",
              "      <td>1</td>\n",
              "      <td>20000</td>\n",
              "      <td>8000</td>\n",
              "      <td>45.0</td>\n",
              "    </tr>\n",
              "    <tr>\n",
              "      <th>...</th>\n",
              "      <td>...</td>\n",
              "      <td>...</td>\n",
              "      <td>...</td>\n",
              "      <td>...</td>\n",
              "    </tr>\n",
              "    <tr>\n",
              "      <th>74</th>\n",
              "      <td>6</td>\n",
              "      <td>40000</td>\n",
              "      <td>10000</td>\n",
              "      <td>32.0</td>\n",
              "    </tr>\n",
              "    <tr>\n",
              "      <th>75</th>\n",
              "      <td>6</td>\n",
              "      <td>22000</td>\n",
              "      <td>10000</td>\n",
              "      <td>32.0</td>\n",
              "    </tr>\n",
              "    <tr>\n",
              "      <th>76</th>\n",
              "      <td>6</td>\n",
              "      <td>40000</td>\n",
              "      <td>12000</td>\n",
              "      <td>35.0</td>\n",
              "    </tr>\n",
              "    <tr>\n",
              "      <th>77</th>\n",
              "      <td>6</td>\n",
              "      <td>20000</td>\n",
              "      <td>10000</td>\n",
              "      <td>32.0</td>\n",
              "    </tr>\n",
              "    <tr>\n",
              "      <th>78</th>\n",
              "      <td>6</td>\n",
              "      <td>20000</td>\n",
              "      <td>6500</td>\n",
              "      <td>32.0</td>\n",
              "    </tr>\n",
              "  </tbody>\n",
              "</table>\n",
              "<p>79 rows × 4 columns</p>\n",
              "</div>\n",
              "      <button class=\"colab-df-convert\" onclick=\"convertToInteractive('df-2d19e4c6-47de-4bfc-91b3-1f72c1d9a266')\"\n",
              "              title=\"Convert this dataframe to an interactive table.\"\n",
              "              style=\"display:none;\">\n",
              "        \n",
              "  <svg xmlns=\"http://www.w3.org/2000/svg\" height=\"24px\"viewBox=\"0 0 24 24\"\n",
              "       width=\"24px\">\n",
              "    <path d=\"M0 0h24v24H0V0z\" fill=\"none\"/>\n",
              "    <path d=\"M18.56 5.44l.94 2.06.94-2.06 2.06-.94-2.06-.94-.94-2.06-.94 2.06-2.06.94zm-11 1L8.5 8.5l.94-2.06 2.06-.94-2.06-.94L8.5 2.5l-.94 2.06-2.06.94zm10 10l.94 2.06.94-2.06 2.06-.94-2.06-.94-.94-2.06-.94 2.06-2.06.94z\"/><path d=\"M17.41 7.96l-1.37-1.37c-.4-.4-.92-.59-1.43-.59-.52 0-1.04.2-1.43.59L10.3 9.45l-7.72 7.72c-.78.78-.78 2.05 0 2.83L4 21.41c.39.39.9.59 1.41.59.51 0 1.02-.2 1.41-.59l7.78-7.78 2.81-2.81c.8-.78.8-2.07 0-2.86zM5.41 20L4 18.59l7.72-7.72 1.47 1.35L5.41 20z\"/>\n",
              "  </svg>\n",
              "      </button>\n",
              "      \n",
              "  <style>\n",
              "    .colab-df-container {\n",
              "      display:flex;\n",
              "      flex-wrap:wrap;\n",
              "      gap: 12px;\n",
              "    }\n",
              "\n",
              "    .colab-df-convert {\n",
              "      background-color: #E8F0FE;\n",
              "      border: none;\n",
              "      border-radius: 50%;\n",
              "      cursor: pointer;\n",
              "      display: none;\n",
              "      fill: #1967D2;\n",
              "      height: 32px;\n",
              "      padding: 0 0 0 0;\n",
              "      width: 32px;\n",
              "    }\n",
              "\n",
              "    .colab-df-convert:hover {\n",
              "      background-color: #E2EBFA;\n",
              "      box-shadow: 0px 1px 2px rgba(60, 64, 67, 0.3), 0px 1px 3px 1px rgba(60, 64, 67, 0.15);\n",
              "      fill: #174EA6;\n",
              "    }\n",
              "\n",
              "    [theme=dark] .colab-df-convert {\n",
              "      background-color: #3B4455;\n",
              "      fill: #D2E3FC;\n",
              "    }\n",
              "\n",
              "    [theme=dark] .colab-df-convert:hover {\n",
              "      background-color: #434B5C;\n",
              "      box-shadow: 0px 1px 3px 1px rgba(0, 0, 0, 0.15);\n",
              "      filter: drop-shadow(0px 1px 2px rgba(0, 0, 0, 0.3));\n",
              "      fill: #FFFFFF;\n",
              "    }\n",
              "  </style>\n",
              "\n",
              "      <script>\n",
              "        const buttonEl =\n",
              "          document.querySelector('#df-2d19e4c6-47de-4bfc-91b3-1f72c1d9a266 button.colab-df-convert');\n",
              "        buttonEl.style.display =\n",
              "          google.colab.kernel.accessAllowed ? 'block' : 'none';\n",
              "\n",
              "        async function convertToInteractive(key) {\n",
              "          const element = document.querySelector('#df-2d19e4c6-47de-4bfc-91b3-1f72c1d9a266');\n",
              "          const dataTable =\n",
              "            await google.colab.kernel.invokeFunction('convertToInteractive',\n",
              "                                                     [key], {});\n",
              "          if (!dataTable) return;\n",
              "\n",
              "          const docLinkHtml = 'Like what you see? Visit the ' +\n",
              "            '<a target=\"_blank\" href=https://colab.research.google.com/notebooks/data_table.ipynb>data table notebook</a>'\n",
              "            + ' to learn more about interactive tables.';\n",
              "          element.innerHTML = '';\n",
              "          dataTable['output_type'] = 'display_data';\n",
              "          await google.colab.output.renderOutput(dataTable, element);\n",
              "          const docLink = document.createElement('div');\n",
              "          docLink.innerHTML = docLinkHtml;\n",
              "          element.appendChild(docLink);\n",
              "        }\n",
              "      </script>\n",
              "    </div>\n",
              "  </div>\n",
              "  "
            ]
          },
          "metadata": {},
          "execution_count": 14
        }
      ]
    },
    {
      "cell_type": "code",
      "source": [
        "x_train, x_test, y_train, y_test = train_test_split(x,y,test_size=0.2)\n",
        "print(x_train.shape)\n",
        "print(x_test.shape)\n",
        "print(y_train.shape)\n",
        "print(y_test.shape)"
      ],
      "metadata": {
        "colab": {
          "base_uri": "https://localhost:8080/"
        },
        "id": "EyBWIo9YG-5z",
        "outputId": "a290835b-7ed1-4779-84aa-d9dbeadd8a4b"
      },
      "execution_count": 15,
      "outputs": [
        {
          "output_type": "stream",
          "name": "stdout",
          "text": [
            "(63, 4)\n",
            "(16, 4)\n",
            "(63,)\n",
            "(16,)\n"
          ]
        }
      ]
    },
    {
      "cell_type": "code",
      "source": [
        "from keras.models import Sequential\n",
        "from keras.layers import Dense\n",
        "from tensorflow.keras.optimizers import SGD,Adam\n",
        "model = DecisionTreeClassifier() \n",
        "# criterion=\"gini\", random_state=42,max_depth=3, min_samples_leaf=5\n",
        "model.fit(x_train,y_train)\n",
        "# from sklearn.metrics import confusion_matrix\n",
        "# print('Confusion matrix ')"
      ],
      "metadata": {
        "colab": {
          "base_uri": "https://localhost:8080/"
        },
        "id": "iO1whUqfHL30",
        "outputId": "0803d888-7948-4d5e-a96b-0f44c98a4710"
      },
      "execution_count": 16,
      "outputs": [
        {
          "output_type": "execute_result",
          "data": {
            "text/plain": [
              "DecisionTreeClassifier()"
            ]
          },
          "metadata": {},
          "execution_count": 16
        }
      ]
    },
    {
      "cell_type": "code",
      "source": [
        "p = model.predict(x_test)\n",
        "p1 = model.predict(x_train)\n",
        "rez = accuracy_score(y_test,p)\n",
        "rez2 = accuracy_score(y_train,p1)\n",
        "print(p)\n",
        "print(p1)\n",
        "print('Test accuracy: %.2f' % (rez*100))\n",
        "print('Train accuracy: %.2f' % (rez2*100))"
      ],
      "metadata": {
        "colab": {
          "base_uri": "https://localhost:8080/"
        },
        "id": "GnjF5suaHQb8",
        "outputId": "8465b686-53df-4d8a-ec50-8ed0f360b531"
      },
      "execution_count": 17,
      "outputs": [
        {
          "output_type": "stream",
          "name": "stdout",
          "text": [
            "['mic' 'mare' 'mediu' 'mic' 'mare' 'mic' 'mediu' 'mare' 'mic' 'mare' 'mic'\n",
            " 'mare' 'mare' 'mic' 'mare' 'mediu']\n",
            "['mare' 'mare' 'mare' 'mediu' 'mediu' 'mediu' 'mic' 'mare' 'mare' 'mediu'\n",
            " 'mare' 'mare' 'mare' 'mare' 'mare' 'mare' 'mediu' 'mediu' 'mare' 'mare'\n",
            " 'mare' 'mare' 'mare' 'mediu' 'mare' 'mare' 'mare' 'mare' 'mediu' 'mic'\n",
            " 'mare' 'mare' 'mic' 'mare' 'mic' 'mare' 'mare' 'mic' 'mic' 'mare' 'mic'\n",
            " 'mediu' 'mic' 'mic' 'mare' 'mediu' 'mare' 'mediu' 'mic' 'mediu' 'mare'\n",
            " 'mare' 'mare' 'mediu' 'mare' 'mare' 'mare' 'mare' 'mediu' 'mare' 'mare'\n",
            " 'mic' 'mic']\n",
            "Test accuracy: 62.50\n",
            "Train accuracy: 88.89\n"
          ]
        }
      ]
    },
    {
      "cell_type": "code",
      "source": [
        "target = list(casti['Pret'].unique())\n",
        "feature_names = list(x.columns)\n",
        "\n",
        "from sklearn import tree\n",
        "import graphviz\n",
        "dot_data = tree.export_graphviz(model,\n",
        "                                out_file=None, \n",
        "                      feature_names=feature_names,  \n",
        "                      class_names=target,  \n",
        "                      filled=True, rounded=True,  \n",
        "                      special_characters=True)  \n",
        "graph = graphviz.Source(dot_data)  \n",
        "\n",
        "graph"
      ],
      "metadata": {
        "colab": {
          "base_uri": "https://localhost:8080/",
          "height": 1000
        },
        "id": "bmikSGCMxm4l",
        "outputId": "6072b9c6-4964-4b25-d010-df89a218ba14"
      },
      "execution_count": 18,
      "outputs": [
        {
          "output_type": "execute_result",
          "data": {
            "text/plain": [
              "<graphviz.files.Source at 0x7f5f43e686d0>"
            ],
            "image/svg+xml": "<?xml version=\"1.0\" encoding=\"UTF-8\" standalone=\"no\"?>\n<!DOCTYPE svg PUBLIC \"-//W3C//DTD SVG 1.1//EN\"\n \"http://www.w3.org/Graphics/SVG/1.1/DTD/svg11.dtd\">\n<!-- Generated by graphviz version 2.40.1 (20161225.0304)\n -->\n<!-- Title: Tree Pages: 1 -->\n<svg width=\"1964pt\" height=\"1028pt\"\n viewBox=\"0.00 0.00 1964.00 1028.00\" xmlns=\"http://www.w3.org/2000/svg\" xmlns:xlink=\"http://www.w3.org/1999/xlink\">\n<g id=\"graph0\" class=\"graph\" transform=\"scale(1 1) rotate(0) translate(4 1024)\">\n<title>Tree</title>\n<polygon fill=\"#ffffff\" stroke=\"transparent\" points=\"-4,4 -4,-1024 1960,-1024 1960,4 -4,4\"/>\n<!-- 0 -->\n<g id=\"node1\" class=\"node\">\n<title>0</title>\n<path fill=\"#f6d3ba\" stroke=\"#000000\" d=\"M1475.5,-1020C1475.5,-1020 1315.5,-1020 1315.5,-1020 1309.5,-1020 1303.5,-1014 1303.5,-1008 1303.5,-1008 1303.5,-949 1303.5,-949 1303.5,-943 1309.5,-937 1315.5,-937 1315.5,-937 1475.5,-937 1475.5,-937 1481.5,-937 1487.5,-943 1487.5,-949 1487.5,-949 1487.5,-1008 1487.5,-1008 1487.5,-1014 1481.5,-1020 1475.5,-1020\"/>\n<text text-anchor=\"start\" x=\"1311.5\" y=\"-1004.8\" font-family=\"Helvetica,sans-Serif\" font-size=\"14.00\" fill=\"#000000\">Frecventa casti ≤ 20500.0</text>\n<text text-anchor=\"start\" x=\"1362\" y=\"-989.8\" font-family=\"Helvetica,sans-Serif\" font-size=\"14.00\" fill=\"#000000\">gini = 0.61</text>\n<text text-anchor=\"start\" x=\"1351.5\" y=\"-974.8\" font-family=\"Helvetica,sans-Serif\" font-size=\"14.00\" fill=\"#000000\">samples = 63</text>\n<text text-anchor=\"start\" x=\"1333.5\" y=\"-959.8\" font-family=\"Helvetica,sans-Serif\" font-size=\"14.00\" fill=\"#000000\">value = [33, 17, 13]</text>\n<text text-anchor=\"start\" x=\"1350.5\" y=\"-944.8\" font-family=\"Helvetica,sans-Serif\" font-size=\"14.00\" fill=\"#000000\">class = mediu</text>\n</g>\n<!-- 1 -->\n<g id=\"node2\" class=\"node\">\n<title>1</title>\n<path fill=\"#fcf2eb\" stroke=\"#000000\" d=\"M1274.5,-901C1274.5,-901 1158.5,-901 1158.5,-901 1152.5,-901 1146.5,-895 1146.5,-889 1146.5,-889 1146.5,-830 1146.5,-830 1146.5,-824 1152.5,-818 1158.5,-818 1158.5,-818 1274.5,-818 1274.5,-818 1280.5,-818 1286.5,-824 1286.5,-830 1286.5,-830 1286.5,-889 1286.5,-889 1286.5,-895 1280.5,-901 1274.5,-901\"/>\n<text text-anchor=\"start\" x=\"1179\" y=\"-885.8\" font-family=\"Helvetica,sans-Serif\" font-size=\"14.00\" fill=\"#000000\">Brand ≤ 2.5</text>\n<text text-anchor=\"start\" x=\"1183\" y=\"-870.8\" font-family=\"Helvetica,sans-Serif\" font-size=\"14.00\" fill=\"#000000\">gini = 0.66</text>\n<text text-anchor=\"start\" x=\"1172.5\" y=\"-855.8\" font-family=\"Helvetica,sans-Serif\" font-size=\"14.00\" fill=\"#000000\">samples = 43</text>\n<text text-anchor=\"start\" x=\"1154.5\" y=\"-840.8\" font-family=\"Helvetica,sans-Serif\" font-size=\"14.00\" fill=\"#000000\">value = [17, 14, 12]</text>\n<text text-anchor=\"start\" x=\"1171.5\" y=\"-825.8\" font-family=\"Helvetica,sans-Serif\" font-size=\"14.00\" fill=\"#000000\">class = mediu</text>\n</g>\n<!-- 0&#45;&gt;1 -->\n<g id=\"edge1\" class=\"edge\">\n<title>0&#45;&gt;1</title>\n<path fill=\"none\" stroke=\"#000000\" d=\"M1332.8945,-936.8796C1318.3146,-927.1868 1302.6849,-916.7961 1287.7618,-906.8752\"/>\n<polygon fill=\"#000000\" stroke=\"#000000\" points=\"1289.3355,-903.7185 1279.0702,-901.0969 1285.4601,-909.5479 1289.3355,-903.7185\"/>\n<text text-anchor=\"middle\" x=\"1284.0047\" y=\"-921.9051\" font-family=\"Helvetica,sans-Serif\" font-size=\"14.00\" fill=\"#000000\">True</text>\n</g>\n<!-- 40 -->\n<g id=\"node41\" class=\"node\">\n<title>40</title>\n<path fill=\"#eb9f68\" stroke=\"#000000\" d=\"M1578,-901C1578,-901 1479,-901 1479,-901 1473,-901 1467,-895 1467,-889 1467,-889 1467,-830 1467,-830 1467,-824 1473,-818 1479,-818 1479,-818 1578,-818 1578,-818 1584,-818 1590,-824 1590,-830 1590,-830 1590,-889 1590,-889 1590,-895 1584,-901 1578,-901\"/>\n<text text-anchor=\"start\" x=\"1491\" y=\"-885.8\" font-family=\"Helvetica,sans-Serif\" font-size=\"14.00\" fill=\"#000000\">Brand ≤ 2.5</text>\n<text text-anchor=\"start\" x=\"1490.5\" y=\"-870.8\" font-family=\"Helvetica,sans-Serif\" font-size=\"14.00\" fill=\"#000000\">gini = 0.335</text>\n<text text-anchor=\"start\" x=\"1484.5\" y=\"-855.8\" font-family=\"Helvetica,sans-Serif\" font-size=\"14.00\" fill=\"#000000\">samples = 20</text>\n<text text-anchor=\"start\" x=\"1475\" y=\"-840.8\" font-family=\"Helvetica,sans-Serif\" font-size=\"14.00\" fill=\"#000000\">value = [16, 3, 1]</text>\n<text text-anchor=\"start\" x=\"1483.5\" y=\"-825.8\" font-family=\"Helvetica,sans-Serif\" font-size=\"14.00\" fill=\"#000000\">class = mediu</text>\n</g>\n<!-- 0&#45;&gt;40 -->\n<g id=\"edge40\" class=\"edge\">\n<title>0&#45;&gt;40</title>\n<path fill=\"none\" stroke=\"#000000\" d=\"M1442.0169,-936.8796C1452.3848,-927.6031 1463.4671,-917.6874 1474.1199,-908.1559\"/>\n<polygon fill=\"#000000\" stroke=\"#000000\" points=\"1476.6659,-910.5744 1481.7845,-901.2981 1471.9983,-905.3577 1476.6659,-910.5744\"/>\n<text text-anchor=\"middle\" x=\"1480.3978\" y=\"-922.5596\" font-family=\"Helvetica,sans-Serif\" font-size=\"14.00\" fill=\"#000000\">False</text>\n</g>\n<!-- 2 -->\n<g id=\"node3\" class=\"node\">\n<title>2</title>\n<path fill=\"#f4cbad\" stroke=\"#000000\" d=\"M702,-782C702,-782 603,-782 603,-782 597,-782 591,-776 591,-770 591,-770 591,-711 591,-711 591,-705 597,-699 603,-699 603,-699 702,-699 702,-699 708,-699 714,-705 714,-711 714,-711 714,-770 714,-770 714,-776 708,-782 702,-782\"/>\n<text text-anchor=\"start\" x=\"615\" y=\"-766.8\" font-family=\"Helvetica,sans-Serif\" font-size=\"14.00\" fill=\"#000000\">Brand ≤ 1.5</text>\n<text text-anchor=\"start\" x=\"614.5\" y=\"-751.8\" font-family=\"Helvetica,sans-Serif\" font-size=\"14.00\" fill=\"#000000\">gini = 0.531</text>\n<text text-anchor=\"start\" x=\"608.5\" y=\"-736.8\" font-family=\"Helvetica,sans-Serif\" font-size=\"14.00\" fill=\"#000000\">samples = 25</text>\n<text text-anchor=\"start\" x=\"599\" y=\"-721.8\" font-family=\"Helvetica,sans-Serif\" font-size=\"14.00\" fill=\"#000000\">value = [15, 8, 2]</text>\n<text text-anchor=\"start\" x=\"607.5\" y=\"-706.8\" font-family=\"Helvetica,sans-Serif\" font-size=\"14.00\" fill=\"#000000\">class = mediu</text>\n</g>\n<!-- 1&#45;&gt;2 -->\n<g id=\"edge2\" class=\"edge\">\n<title>1&#45;&gt;2</title>\n<path fill=\"none\" stroke=\"#000000\" d=\"M1146.4933,-844.7291C1038.6418,-821.9732 832.9483,-778.5733 724.1264,-755.6127\"/>\n<polygon fill=\"#000000\" stroke=\"#000000\" points=\"724.731,-752.1632 714.2238,-753.5233 723.2858,-759.0124 724.731,-752.1632\"/>\n</g>\n<!-- 23 -->\n<g id=\"node24\" class=\"node\">\n<title>23</title>\n<path fill=\"#d5bdf6\" stroke=\"#000000\" d=\"M1266,-782C1266,-782 1167,-782 1167,-782 1161,-782 1155,-776 1155,-770 1155,-770 1155,-711 1155,-711 1155,-705 1161,-699 1167,-699 1167,-699 1266,-699 1266,-699 1272,-699 1278,-705 1278,-711 1278,-711 1278,-770 1278,-770 1278,-776 1272,-782 1266,-782\"/>\n<text text-anchor=\"start\" x=\"1179\" y=\"-766.8\" font-family=\"Helvetica,sans-Serif\" font-size=\"14.00\" fill=\"#000000\">Brand ≤ 4.5</text>\n<text text-anchor=\"start\" x=\"1178.5\" y=\"-751.8\" font-family=\"Helvetica,sans-Serif\" font-size=\"14.00\" fill=\"#000000\">gini = 0.568</text>\n<text text-anchor=\"start\" x=\"1172.5\" y=\"-736.8\" font-family=\"Helvetica,sans-Serif\" font-size=\"14.00\" fill=\"#000000\">samples = 18</text>\n<text text-anchor=\"start\" x=\"1163\" y=\"-721.8\" font-family=\"Helvetica,sans-Serif\" font-size=\"14.00\" fill=\"#000000\">value = [2, 6, 10]</text>\n<text text-anchor=\"start\" x=\"1175\" y=\"-706.8\" font-family=\"Helvetica,sans-Serif\" font-size=\"14.00\" fill=\"#000000\">class = mare</text>\n</g>\n<!-- 1&#45;&gt;23 -->\n<g id=\"edge23\" class=\"edge\">\n<title>1&#45;&gt;23</title>\n<path fill=\"none\" stroke=\"#000000\" d=\"M1216.5,-817.8796C1216.5,-809.6838 1216.5,-800.9891 1216.5,-792.5013\"/>\n<polygon fill=\"#000000\" stroke=\"#000000\" points=\"1220.0001,-792.298 1216.5,-782.2981 1213.0001,-792.2981 1220.0001,-792.298\"/>\n</g>\n<!-- 3 -->\n<g id=\"node4\" class=\"node\">\n<title>3</title>\n<path fill=\"#e6fcef\" stroke=\"#000000\" d=\"M320,-663C320,-663 143,-663 143,-663 137,-663 131,-657 131,-651 131,-651 131,-592 131,-592 131,-586 137,-580 143,-580 143,-580 320,-580 320,-580 326,-580 332,-586 332,-592 332,-592 332,-651 332,-651 332,-657 326,-663 320,-663\"/>\n<text text-anchor=\"start\" x=\"139\" y=\"-647.8\" font-family=\"Helvetica,sans-Serif\" font-size=\"14.00\" fill=\"#000000\">Frecventa microfon ≤ 7250.0</text>\n<text text-anchor=\"start\" x=\"193.5\" y=\"-632.8\" font-family=\"Helvetica,sans-Serif\" font-size=\"14.00\" fill=\"#000000\">gini = 0.615</text>\n<text text-anchor=\"start\" x=\"187.5\" y=\"-617.8\" font-family=\"Helvetica,sans-Serif\" font-size=\"14.00\" fill=\"#000000\">samples = 13</text>\n<text text-anchor=\"start\" x=\"182\" y=\"-602.8\" font-family=\"Helvetica,sans-Serif\" font-size=\"14.00\" fill=\"#000000\">value = [5, 6, 2]</text>\n<text text-anchor=\"start\" x=\"195\" y=\"-587.8\" font-family=\"Helvetica,sans-Serif\" font-size=\"14.00\" fill=\"#000000\">class = mic</text>\n</g>\n<!-- 2&#45;&gt;3 -->\n<g id=\"edge3\" class=\"edge\">\n<title>2&#45;&gt;3</title>\n<path fill=\"none\" stroke=\"#000000\" d=\"M590.8321,-723.0689C525.6723,-704.6508 421.5581,-675.2219 342.1338,-652.7718\"/>\n<polygon fill=\"#000000\" stroke=\"#000000\" points=\"342.6584,-649.283 332.0834,-649.9309 340.7543,-656.0191 342.6584,-649.283\"/>\n</g>\n<!-- 14 -->\n<g id=\"node15\" class=\"node\">\n<title>14</title>\n<path fill=\"#ea9a61\" stroke=\"#000000\" d=\"M705,-663C705,-663 600,-663 600,-663 594,-663 588,-657 588,-651 588,-651 588,-592 588,-592 588,-586 594,-580 600,-580 600,-580 705,-580 705,-580 711,-580 717,-586 717,-592 717,-592 717,-651 717,-651 717,-657 711,-663 705,-663\"/>\n<text text-anchor=\"start\" x=\"596\" y=\"-647.8\" font-family=\"Helvetica,sans-Serif\" font-size=\"14.00\" fill=\"#000000\">Impedanta ≤ 36.0</text>\n<text text-anchor=\"start\" x=\"614.5\" y=\"-632.8\" font-family=\"Helvetica,sans-Serif\" font-size=\"14.00\" fill=\"#000000\">gini = 0.278</text>\n<text text-anchor=\"start\" x=\"608.5\" y=\"-617.8\" font-family=\"Helvetica,sans-Serif\" font-size=\"14.00\" fill=\"#000000\">samples = 12</text>\n<text text-anchor=\"start\" x=\"599\" y=\"-602.8\" font-family=\"Helvetica,sans-Serif\" font-size=\"14.00\" fill=\"#000000\">value = [10, 2, 0]</text>\n<text text-anchor=\"start\" x=\"607.5\" y=\"-587.8\" font-family=\"Helvetica,sans-Serif\" font-size=\"14.00\" fill=\"#000000\">class = mediu</text>\n</g>\n<!-- 2&#45;&gt;14 -->\n<g id=\"edge14\" class=\"edge\">\n<title>2&#45;&gt;14</title>\n<path fill=\"none\" stroke=\"#000000\" d=\"M652.5,-698.8796C652.5,-690.6838 652.5,-681.9891 652.5,-673.5013\"/>\n<polygon fill=\"#000000\" stroke=\"#000000\" points=\"656.0001,-673.298 652.5,-663.2981 649.0001,-673.2981 656.0001,-673.298\"/>\n</g>\n<!-- 4 -->\n<g id=\"node5\" class=\"node\">\n<title>4</title>\n<path fill=\"#8139e5\" stroke=\"#000000\" d=\"M137,-536.5C137,-536.5 46,-536.5 46,-536.5 40,-536.5 34,-530.5 34,-524.5 34,-524.5 34,-480.5 34,-480.5 34,-474.5 40,-468.5 46,-468.5 46,-468.5 137,-468.5 137,-468.5 143,-468.5 149,-474.5 149,-480.5 149,-480.5 149,-524.5 149,-524.5 149,-530.5 143,-536.5 137,-536.5\"/>\n<text text-anchor=\"start\" x=\"62\" y=\"-521.3\" font-family=\"Helvetica,sans-Serif\" font-size=\"14.00\" fill=\"#000000\">gini = 0.0</text>\n<text text-anchor=\"start\" x=\"52\" y=\"-506.3\" font-family=\"Helvetica,sans-Serif\" font-size=\"14.00\" fill=\"#000000\">samples = 2</text>\n<text text-anchor=\"start\" x=\"42\" y=\"-491.3\" font-family=\"Helvetica,sans-Serif\" font-size=\"14.00\" fill=\"#000000\">value = [0, 0, 2]</text>\n<text text-anchor=\"start\" x=\"50\" y=\"-476.3\" font-family=\"Helvetica,sans-Serif\" font-size=\"14.00\" fill=\"#000000\">class = mare</text>\n</g>\n<!-- 3&#45;&gt;4 -->\n<g id=\"edge4\" class=\"edge\">\n<title>3&#45;&gt;4</title>\n<path fill=\"none\" stroke=\"#000000\" d=\"M182.5348,-579.8796C168.6927,-568.1138 153.6408,-555.3197 139.8359,-543.5855\"/>\n<polygon fill=\"#000000\" stroke=\"#000000\" points=\"141.7567,-540.6247 131.8705,-536.8149 137.2231,-545.9582 141.7567,-540.6247\"/>\n</g>\n<!-- 5 -->\n<g id=\"node6\" class=\"node\">\n<title>5</title>\n<path fill=\"#defbea\" stroke=\"#000000\" d=\"M284,-544C284,-544 179,-544 179,-544 173,-544 167,-538 167,-532 167,-532 167,-473 167,-473 167,-467 173,-461 179,-461 179,-461 284,-461 284,-461 290,-461 296,-467 296,-473 296,-473 296,-532 296,-532 296,-538 290,-544 284,-544\"/>\n<text text-anchor=\"start\" x=\"175\" y=\"-528.8\" font-family=\"Helvetica,sans-Serif\" font-size=\"14.00\" fill=\"#000000\">Impedanta ≤ 33.5</text>\n<text text-anchor=\"start\" x=\"193.5\" y=\"-513.8\" font-family=\"Helvetica,sans-Serif\" font-size=\"14.00\" fill=\"#000000\">gini = 0.496</text>\n<text text-anchor=\"start\" x=\"187.5\" y=\"-498.8\" font-family=\"Helvetica,sans-Serif\" font-size=\"14.00\" fill=\"#000000\">samples = 11</text>\n<text text-anchor=\"start\" x=\"182\" y=\"-483.8\" font-family=\"Helvetica,sans-Serif\" font-size=\"14.00\" fill=\"#000000\">value = [5, 6, 0]</text>\n<text text-anchor=\"start\" x=\"195\" y=\"-468.8\" font-family=\"Helvetica,sans-Serif\" font-size=\"14.00\" fill=\"#000000\">class = mic</text>\n</g>\n<!-- 3&#45;&gt;5 -->\n<g id=\"edge5\" class=\"edge\">\n<title>3&#45;&gt;5</title>\n<path fill=\"none\" stroke=\"#000000\" d=\"M231.5,-579.8796C231.5,-571.6838 231.5,-562.9891 231.5,-554.5013\"/>\n<polygon fill=\"#000000\" stroke=\"#000000\" points=\"235.0001,-554.298 231.5,-544.2981 228.0001,-554.2981 235.0001,-554.298\"/>\n</g>\n<!-- 6 -->\n<g id=\"node7\" class=\"node\">\n<title>6</title>\n<path fill=\"#39e581\" stroke=\"#000000\" d=\"M137,-417.5C137,-417.5 46,-417.5 46,-417.5 40,-417.5 34,-411.5 34,-405.5 34,-405.5 34,-361.5 34,-361.5 34,-355.5 40,-349.5 46,-349.5 46,-349.5 137,-349.5 137,-349.5 143,-349.5 149,-355.5 149,-361.5 149,-361.5 149,-405.5 149,-405.5 149,-411.5 143,-417.5 137,-417.5\"/>\n<text text-anchor=\"start\" x=\"62\" y=\"-402.3\" font-family=\"Helvetica,sans-Serif\" font-size=\"14.00\" fill=\"#000000\">gini = 0.0</text>\n<text text-anchor=\"start\" x=\"52\" y=\"-387.3\" font-family=\"Helvetica,sans-Serif\" font-size=\"14.00\" fill=\"#000000\">samples = 2</text>\n<text text-anchor=\"start\" x=\"42\" y=\"-372.3\" font-family=\"Helvetica,sans-Serif\" font-size=\"14.00\" fill=\"#000000\">value = [0, 2, 0]</text>\n<text text-anchor=\"start\" x=\"55\" y=\"-357.3\" font-family=\"Helvetica,sans-Serif\" font-size=\"14.00\" fill=\"#000000\">class = mic</text>\n</g>\n<!-- 5&#45;&gt;6 -->\n<g id=\"edge6\" class=\"edge\">\n<title>5&#45;&gt;6</title>\n<path fill=\"none\" stroke=\"#000000\" d=\"M182.5348,-460.8796C168.6927,-449.1138 153.6408,-436.3197 139.8359,-424.5855\"/>\n<polygon fill=\"#000000\" stroke=\"#000000\" points=\"141.7567,-421.6247 131.8705,-417.8149 137.2231,-426.9582 141.7567,-421.6247\"/>\n</g>\n<!-- 7 -->\n<g id=\"node8\" class=\"node\">\n<title>7</title>\n<path fill=\"#fae6d7\" stroke=\"#000000\" d=\"M284,-425C284,-425 179,-425 179,-425 173,-425 167,-419 167,-413 167,-413 167,-354 167,-354 167,-348 173,-342 179,-342 179,-342 284,-342 284,-342 290,-342 296,-348 296,-354 296,-354 296,-413 296,-413 296,-419 290,-425 284,-425\"/>\n<text text-anchor=\"start\" x=\"175\" y=\"-409.8\" font-family=\"Helvetica,sans-Serif\" font-size=\"14.00\" fill=\"#000000\">Impedanta ≤ 35.5</text>\n<text text-anchor=\"start\" x=\"193.5\" y=\"-394.8\" font-family=\"Helvetica,sans-Serif\" font-size=\"14.00\" fill=\"#000000\">gini = 0.494</text>\n<text text-anchor=\"start\" x=\"192\" y=\"-379.8\" font-family=\"Helvetica,sans-Serif\" font-size=\"14.00\" fill=\"#000000\">samples = 9</text>\n<text text-anchor=\"start\" x=\"182\" y=\"-364.8\" font-family=\"Helvetica,sans-Serif\" font-size=\"14.00\" fill=\"#000000\">value = [5, 4, 0]</text>\n<text text-anchor=\"start\" x=\"186.5\" y=\"-349.8\" font-family=\"Helvetica,sans-Serif\" font-size=\"14.00\" fill=\"#000000\">class = mediu</text>\n</g>\n<!-- 5&#45;&gt;7 -->\n<g id=\"edge7\" class=\"edge\">\n<title>5&#45;&gt;7</title>\n<path fill=\"none\" stroke=\"#000000\" d=\"M231.5,-460.8796C231.5,-452.6838 231.5,-443.9891 231.5,-435.5013\"/>\n<polygon fill=\"#000000\" stroke=\"#000000\" points=\"235.0001,-435.298 231.5,-425.2981 228.0001,-435.2981 235.0001,-435.298\"/>\n</g>\n<!-- 8 -->\n<g id=\"node9\" class=\"node\">\n<title>8</title>\n<path fill=\"#e58139\" stroke=\"#000000\" d=\"M103,-298.5C103,-298.5 12,-298.5 12,-298.5 6,-298.5 0,-292.5 0,-286.5 0,-286.5 0,-242.5 0,-242.5 0,-236.5 6,-230.5 12,-230.5 12,-230.5 103,-230.5 103,-230.5 109,-230.5 115,-236.5 115,-242.5 115,-242.5 115,-286.5 115,-286.5 115,-292.5 109,-298.5 103,-298.5\"/>\n<text text-anchor=\"start\" x=\"28\" y=\"-283.3\" font-family=\"Helvetica,sans-Serif\" font-size=\"14.00\" fill=\"#000000\">gini = 0.0</text>\n<text text-anchor=\"start\" x=\"18\" y=\"-268.3\" font-family=\"Helvetica,sans-Serif\" font-size=\"14.00\" fill=\"#000000\">samples = 2</text>\n<text text-anchor=\"start\" x=\"8\" y=\"-253.3\" font-family=\"Helvetica,sans-Serif\" font-size=\"14.00\" fill=\"#000000\">value = [2, 0, 0]</text>\n<text text-anchor=\"start\" x=\"12.5\" y=\"-238.3\" font-family=\"Helvetica,sans-Serif\" font-size=\"14.00\" fill=\"#000000\">class = mediu</text>\n</g>\n<!-- 7&#45;&gt;8 -->\n<g id=\"edge8\" class=\"edge\">\n<title>7&#45;&gt;8</title>\n<path fill=\"none\" stroke=\"#000000\" d=\"M170.6432,-341.8796C152.8729,-329.7263 133.4983,-316.4759 115.8847,-304.4297\"/>\n<polygon fill=\"#000000\" stroke=\"#000000\" points=\"117.6243,-301.3792 107.3942,-298.623 113.6726,-307.1572 117.6243,-301.3792\"/>\n</g>\n<!-- 9 -->\n<g id=\"node10\" class=\"node\">\n<title>9</title>\n<path fill=\"#cef8e0\" stroke=\"#000000\" d=\"M322,-306C322,-306 145,-306 145,-306 139,-306 133,-300 133,-294 133,-294 133,-235 133,-235 133,-229 139,-223 145,-223 145,-223 322,-223 322,-223 328,-223 334,-229 334,-235 334,-235 334,-294 334,-294 334,-300 328,-306 322,-306\"/>\n<text text-anchor=\"start\" x=\"141\" y=\"-290.8\" font-family=\"Helvetica,sans-Serif\" font-size=\"14.00\" fill=\"#000000\">Frecventa microfon ≤ 9000.0</text>\n<text text-anchor=\"start\" x=\"200\" y=\"-275.8\" font-family=\"Helvetica,sans-Serif\" font-size=\"14.00\" fill=\"#000000\">gini = 0.49</text>\n<text text-anchor=\"start\" x=\"194\" y=\"-260.8\" font-family=\"Helvetica,sans-Serif\" font-size=\"14.00\" fill=\"#000000\">samples = 7</text>\n<text text-anchor=\"start\" x=\"184\" y=\"-245.8\" font-family=\"Helvetica,sans-Serif\" font-size=\"14.00\" fill=\"#000000\">value = [3, 4, 0]</text>\n<text text-anchor=\"start\" x=\"197\" y=\"-230.8\" font-family=\"Helvetica,sans-Serif\" font-size=\"14.00\" fill=\"#000000\">class = mic</text>\n</g>\n<!-- 7&#45;&gt;9 -->\n<g id=\"edge9\" class=\"edge\">\n<title>7&#45;&gt;9</title>\n<path fill=\"none\" stroke=\"#000000\" d=\"M232.1995,-341.8796C232.3372,-333.6838 232.4834,-324.9891 232.626,-316.5013\"/>\n<polygon fill=\"#000000\" stroke=\"#000000\" points=\"236.1289,-316.3555 232.7975,-306.2981 229.1299,-316.2378 236.1289,-316.3555\"/>\n</g>\n<!-- 10 -->\n<g id=\"node11\" class=\"node\">\n<title>10</title>\n<path fill=\"#9cf2c0\" stroke=\"#000000\" d=\"M209,-179.5C209,-179.5 118,-179.5 118,-179.5 112,-179.5 106,-173.5 106,-167.5 106,-167.5 106,-123.5 106,-123.5 106,-117.5 112,-111.5 118,-111.5 118,-111.5 209,-111.5 209,-111.5 215,-111.5 221,-117.5 221,-123.5 221,-123.5 221,-167.5 221,-167.5 221,-173.5 215,-179.5 209,-179.5\"/>\n<text text-anchor=\"start\" x=\"125.5\" y=\"-164.3\" font-family=\"Helvetica,sans-Serif\" font-size=\"14.00\" fill=\"#000000\">gini = 0.444</text>\n<text text-anchor=\"start\" x=\"124\" y=\"-149.3\" font-family=\"Helvetica,sans-Serif\" font-size=\"14.00\" fill=\"#000000\">samples = 3</text>\n<text text-anchor=\"start\" x=\"114\" y=\"-134.3\" font-family=\"Helvetica,sans-Serif\" font-size=\"14.00\" fill=\"#000000\">value = [1, 2, 0]</text>\n<text text-anchor=\"start\" x=\"127\" y=\"-119.3\" font-family=\"Helvetica,sans-Serif\" font-size=\"14.00\" fill=\"#000000\">class = mic</text>\n</g>\n<!-- 9&#45;&gt;10 -->\n<g id=\"edge10\" class=\"edge\">\n<title>9&#45;&gt;10</title>\n<path fill=\"none\" stroke=\"#000000\" d=\"M209.0174,-222.8796C202.4844,-211.7735 195.4125,-199.7513 188.8348,-188.5691\"/>\n<polygon fill=\"#000000\" stroke=\"#000000\" points=\"191.7723,-186.6597 183.6853,-179.8149 185.7387,-190.2089 191.7723,-186.6597\"/>\n</g>\n<!-- 11 -->\n<g id=\"node12\" class=\"node\">\n<title>11</title>\n<path fill=\"#ffffff\" stroke=\"#000000\" d=\"M356,-187C356,-187 251,-187 251,-187 245,-187 239,-181 239,-175 239,-175 239,-116 239,-116 239,-110 245,-104 251,-104 251,-104 356,-104 356,-104 362,-104 368,-110 368,-116 368,-116 368,-175 368,-175 368,-181 362,-187 356,-187\"/>\n<text text-anchor=\"start\" x=\"247\" y=\"-171.8\" font-family=\"Helvetica,sans-Serif\" font-size=\"14.00\" fill=\"#000000\">Impedanta ≤ 37.5</text>\n<text text-anchor=\"start\" x=\"274\" y=\"-156.8\" font-family=\"Helvetica,sans-Serif\" font-size=\"14.00\" fill=\"#000000\">gini = 0.5</text>\n<text text-anchor=\"start\" x=\"264\" y=\"-141.8\" font-family=\"Helvetica,sans-Serif\" font-size=\"14.00\" fill=\"#000000\">samples = 4</text>\n<text text-anchor=\"start\" x=\"254\" y=\"-126.8\" font-family=\"Helvetica,sans-Serif\" font-size=\"14.00\" fill=\"#000000\">value = [2, 2, 0]</text>\n<text text-anchor=\"start\" x=\"258.5\" y=\"-111.8\" font-family=\"Helvetica,sans-Serif\" font-size=\"14.00\" fill=\"#000000\">class = mediu</text>\n</g>\n<!-- 9&#45;&gt;11 -->\n<g id=\"edge11\" class=\"edge\">\n<title>9&#45;&gt;11</title>\n<path fill=\"none\" stroke=\"#000000\" d=\"M257.9826,-222.8796C263.0685,-214.2335 268.4811,-205.0322 273.7328,-196.1042\"/>\n<polygon fill=\"#000000\" stroke=\"#000000\" points=\"276.8594,-197.692 278.9129,-187.2981 270.8259,-194.1428 276.8594,-197.692\"/>\n</g>\n<!-- 12 -->\n<g id=\"node13\" class=\"node\">\n<title>12</title>\n<path fill=\"#ffffff\" stroke=\"#000000\" d=\"M283,-68C283,-68 192,-68 192,-68 186,-68 180,-62 180,-56 180,-56 180,-12 180,-12 180,-6 186,0 192,0 192,0 283,0 283,0 289,0 295,-6 295,-12 295,-12 295,-56 295,-56 295,-62 289,-68 283,-68\"/>\n<text text-anchor=\"start\" x=\"208\" y=\"-52.8\" font-family=\"Helvetica,sans-Serif\" font-size=\"14.00\" fill=\"#000000\">gini = 0.5</text>\n<text text-anchor=\"start\" x=\"198\" y=\"-37.8\" font-family=\"Helvetica,sans-Serif\" font-size=\"14.00\" fill=\"#000000\">samples = 2</text>\n<text text-anchor=\"start\" x=\"188\" y=\"-22.8\" font-family=\"Helvetica,sans-Serif\" font-size=\"14.00\" fill=\"#000000\">value = [1, 1, 0]</text>\n<text text-anchor=\"start\" x=\"192.5\" y=\"-7.8\" font-family=\"Helvetica,sans-Serif\" font-size=\"14.00\" fill=\"#000000\">class = mediu</text>\n</g>\n<!-- 11&#45;&gt;12 -->\n<g id=\"edge12\" class=\"edge\">\n<title>11&#45;&gt;12</title>\n<path fill=\"none\" stroke=\"#000000\" d=\"M278.924,-103.9815C273.7014,-95.1585 268.1771,-85.8258 262.9237,-76.9506\"/>\n<polygon fill=\"#000000\" stroke=\"#000000\" points=\"265.8874,-75.0863 257.7816,-68.2637 259.8636,-78.652 265.8874,-75.0863\"/>\n</g>\n<!-- 13 -->\n<g id=\"node14\" class=\"node\">\n<title>13</title>\n<path fill=\"#ffffff\" stroke=\"#000000\" d=\"M416,-68C416,-68 325,-68 325,-68 319,-68 313,-62 313,-56 313,-56 313,-12 313,-12 313,-6 319,0 325,0 325,0 416,0 416,0 422,0 428,-6 428,-12 428,-12 428,-56 428,-56 428,-62 422,-68 416,-68\"/>\n<text text-anchor=\"start\" x=\"341\" y=\"-52.8\" font-family=\"Helvetica,sans-Serif\" font-size=\"14.00\" fill=\"#000000\">gini = 0.5</text>\n<text text-anchor=\"start\" x=\"331\" y=\"-37.8\" font-family=\"Helvetica,sans-Serif\" font-size=\"14.00\" fill=\"#000000\">samples = 2</text>\n<text text-anchor=\"start\" x=\"321\" y=\"-22.8\" font-family=\"Helvetica,sans-Serif\" font-size=\"14.00\" fill=\"#000000\">value = [1, 1, 0]</text>\n<text text-anchor=\"start\" x=\"325.5\" y=\"-7.8\" font-family=\"Helvetica,sans-Serif\" font-size=\"14.00\" fill=\"#000000\">class = mediu</text>\n</g>\n<!-- 11&#45;&gt;13 -->\n<g id=\"edge13\" class=\"edge\">\n<title>11&#45;&gt;13</title>\n<path fill=\"none\" stroke=\"#000000\" d=\"M328.4483,-103.9815C333.7501,-95.1585 339.3581,-85.8258 344.6911,-76.9506\"/>\n<polygon fill=\"#000000\" stroke=\"#000000\" points=\"347.7605,-78.638 349.9111,-68.2637 341.7604,-75.0325 347.7605,-78.638\"/>\n</g>\n<!-- 15 -->\n<g id=\"node16\" class=\"node\">\n<title>15</title>\n<path fill=\"#e89152\" stroke=\"#000000\" d=\"M612,-544C612,-544 507,-544 507,-544 501,-544 495,-538 495,-532 495,-532 495,-473 495,-473 495,-467 501,-461 507,-461 507,-461 612,-461 612,-461 618,-461 624,-467 624,-473 624,-473 624,-532 624,-532 624,-538 618,-544 612,-544\"/>\n<text text-anchor=\"start\" x=\"503\" y=\"-528.8\" font-family=\"Helvetica,sans-Serif\" font-size=\"14.00\" fill=\"#000000\">Impedanta ≤ 32.5</text>\n<text text-anchor=\"start\" x=\"521.5\" y=\"-513.8\" font-family=\"Helvetica,sans-Serif\" font-size=\"14.00\" fill=\"#000000\">gini = 0.198</text>\n<text text-anchor=\"start\" x=\"520\" y=\"-498.8\" font-family=\"Helvetica,sans-Serif\" font-size=\"14.00\" fill=\"#000000\">samples = 9</text>\n<text text-anchor=\"start\" x=\"510\" y=\"-483.8\" font-family=\"Helvetica,sans-Serif\" font-size=\"14.00\" fill=\"#000000\">value = [8, 1, 0]</text>\n<text text-anchor=\"start\" x=\"514.5\" y=\"-468.8\" font-family=\"Helvetica,sans-Serif\" font-size=\"14.00\" fill=\"#000000\">class = mediu</text>\n</g>\n<!-- 14&#45;&gt;15 -->\n<g id=\"edge15\" class=\"edge\">\n<title>14&#45;&gt;15</title>\n<path fill=\"none\" stroke=\"#000000\" d=\"M619.9731,-579.8796C613.0049,-570.9633 605.5753,-561.4565 598.3944,-552.268\"/>\n<polygon fill=\"#000000\" stroke=\"#000000\" points=\"601.0812,-550.0221 592.1657,-544.2981 595.5657,-554.3326 601.0812,-550.0221\"/>\n</g>\n<!-- 20 -->\n<g id=\"node21\" class=\"node\">\n<title>20</title>\n<path fill=\"#f2c09c\" stroke=\"#000000\" d=\"M839,-544C839,-544 654,-544 654,-544 648,-544 642,-538 642,-532 642,-532 642,-473 642,-473 642,-467 648,-461 654,-461 654,-461 839,-461 839,-461 845,-461 851,-467 851,-473 851,-473 851,-532 851,-532 851,-538 845,-544 839,-544\"/>\n<text text-anchor=\"start\" x=\"650\" y=\"-528.8\" font-family=\"Helvetica,sans-Serif\" font-size=\"14.00\" fill=\"#000000\">Frecventa microfon ≤ 11000.0</text>\n<text text-anchor=\"start\" x=\"708.5\" y=\"-513.8\" font-family=\"Helvetica,sans-Serif\" font-size=\"14.00\" fill=\"#000000\">gini = 0.444</text>\n<text text-anchor=\"start\" x=\"707\" y=\"-498.8\" font-family=\"Helvetica,sans-Serif\" font-size=\"14.00\" fill=\"#000000\">samples = 3</text>\n<text text-anchor=\"start\" x=\"697\" y=\"-483.8\" font-family=\"Helvetica,sans-Serif\" font-size=\"14.00\" fill=\"#000000\">value = [2, 1, 0]</text>\n<text text-anchor=\"start\" x=\"701.5\" y=\"-468.8\" font-family=\"Helvetica,sans-Serif\" font-size=\"14.00\" fill=\"#000000\">class = mediu</text>\n</g>\n<!-- 14&#45;&gt;20 -->\n<g id=\"edge20\" class=\"edge\">\n<title>14&#45;&gt;20</title>\n<path fill=\"none\" stroke=\"#000000\" d=\"M685.3766,-579.8796C692.4197,-570.9633 699.9293,-561.4565 707.1874,-552.268\"/>\n<polygon fill=\"#000000\" stroke=\"#000000\" points=\"710.0309,-554.3147 713.483,-544.2981 704.5379,-549.9757 710.0309,-554.3147\"/>\n</g>\n<!-- 16 -->\n<g id=\"node17\" class=\"node\">\n<title>16</title>\n<path fill=\"#ea9a61\" stroke=\"#000000\" d=\"M503,-425C503,-425 326,-425 326,-425 320,-425 314,-419 314,-413 314,-413 314,-354 314,-354 314,-348 320,-342 326,-342 326,-342 503,-342 503,-342 509,-342 515,-348 515,-354 515,-354 515,-413 515,-413 515,-419 509,-425 503,-425\"/>\n<text text-anchor=\"start\" x=\"322\" y=\"-409.8\" font-family=\"Helvetica,sans-Serif\" font-size=\"14.00\" fill=\"#000000\">Frecventa microfon ≤ 9000.0</text>\n<text text-anchor=\"start\" x=\"376.5\" y=\"-394.8\" font-family=\"Helvetica,sans-Serif\" font-size=\"14.00\" fill=\"#000000\">gini = 0.278</text>\n<text text-anchor=\"start\" x=\"375\" y=\"-379.8\" font-family=\"Helvetica,sans-Serif\" font-size=\"14.00\" fill=\"#000000\">samples = 6</text>\n<text text-anchor=\"start\" x=\"365\" y=\"-364.8\" font-family=\"Helvetica,sans-Serif\" font-size=\"14.00\" fill=\"#000000\">value = [5, 1, 0]</text>\n<text text-anchor=\"start\" x=\"369.5\" y=\"-349.8\" font-family=\"Helvetica,sans-Serif\" font-size=\"14.00\" fill=\"#000000\">class = mediu</text>\n</g>\n<!-- 15&#45;&gt;16 -->\n<g id=\"edge16\" class=\"edge\">\n<title>15&#45;&gt;16</title>\n<path fill=\"none\" stroke=\"#000000\" d=\"M508.786,-460.8796C497.373,-451.513 485.1659,-441.4948 473.4485,-431.8784\"/>\n<polygon fill=\"#000000\" stroke=\"#000000\" points=\"475.3809,-428.9366 465.4304,-425.2981 470.9401,-434.3476 475.3809,-428.9366\"/>\n</g>\n<!-- 19 -->\n<g id=\"node20\" class=\"node\">\n<title>19</title>\n<path fill=\"#e58139\" stroke=\"#000000\" d=\"M636,-417.5C636,-417.5 545,-417.5 545,-417.5 539,-417.5 533,-411.5 533,-405.5 533,-405.5 533,-361.5 533,-361.5 533,-355.5 539,-349.5 545,-349.5 545,-349.5 636,-349.5 636,-349.5 642,-349.5 648,-355.5 648,-361.5 648,-361.5 648,-405.5 648,-405.5 648,-411.5 642,-417.5 636,-417.5\"/>\n<text text-anchor=\"start\" x=\"561\" y=\"-402.3\" font-family=\"Helvetica,sans-Serif\" font-size=\"14.00\" fill=\"#000000\">gini = 0.0</text>\n<text text-anchor=\"start\" x=\"551\" y=\"-387.3\" font-family=\"Helvetica,sans-Serif\" font-size=\"14.00\" fill=\"#000000\">samples = 3</text>\n<text text-anchor=\"start\" x=\"541\" y=\"-372.3\" font-family=\"Helvetica,sans-Serif\" font-size=\"14.00\" fill=\"#000000\">value = [3, 0, 0]</text>\n<text text-anchor=\"start\" x=\"545.5\" y=\"-357.3\" font-family=\"Helvetica,sans-Serif\" font-size=\"14.00\" fill=\"#000000\">class = mediu</text>\n</g>\n<!-- 15&#45;&gt;19 -->\n<g id=\"edge19\" class=\"edge\">\n<title>15&#45;&gt;19</title>\n<path fill=\"none\" stroke=\"#000000\" d=\"M570.3423,-460.8796C573.1495,-450.1034 576.1815,-438.4647 579.0202,-427.5677\"/>\n<polygon fill=\"#000000\" stroke=\"#000000\" points=\"582.4268,-428.3743 581.5608,-417.8149 575.6529,-426.6096 582.4268,-428.3743\"/>\n</g>\n<!-- 17 -->\n<g id=\"node18\" class=\"node\">\n<title>17</title>\n<path fill=\"#e58139\" stroke=\"#000000\" d=\"M458,-298.5C458,-298.5 367,-298.5 367,-298.5 361,-298.5 355,-292.5 355,-286.5 355,-286.5 355,-242.5 355,-242.5 355,-236.5 361,-230.5 367,-230.5 367,-230.5 458,-230.5 458,-230.5 464,-230.5 470,-236.5 470,-242.5 470,-242.5 470,-286.5 470,-286.5 470,-292.5 464,-298.5 458,-298.5\"/>\n<text text-anchor=\"start\" x=\"383\" y=\"-283.3\" font-family=\"Helvetica,sans-Serif\" font-size=\"14.00\" fill=\"#000000\">gini = 0.0</text>\n<text text-anchor=\"start\" x=\"373\" y=\"-268.3\" font-family=\"Helvetica,sans-Serif\" font-size=\"14.00\" fill=\"#000000\">samples = 2</text>\n<text text-anchor=\"start\" x=\"363\" y=\"-253.3\" font-family=\"Helvetica,sans-Serif\" font-size=\"14.00\" fill=\"#000000\">value = [2, 0, 0]</text>\n<text text-anchor=\"start\" x=\"367.5\" y=\"-238.3\" font-family=\"Helvetica,sans-Serif\" font-size=\"14.00\" fill=\"#000000\">class = mediu</text>\n</g>\n<!-- 16&#45;&gt;17 -->\n<g id=\"edge17\" class=\"edge\">\n<title>16&#45;&gt;17</title>\n<path fill=\"none\" stroke=\"#000000\" d=\"M413.8005,-341.8796C413.6212,-331.2134 413.4278,-319.7021 413.2462,-308.9015\"/>\n<polygon fill=\"#000000\" stroke=\"#000000\" points=\"416.7444,-308.7547 413.0767,-298.8149 409.7454,-308.8724 416.7444,-308.7547\"/>\n</g>\n<!-- 18 -->\n<g id=\"node19\" class=\"node\">\n<title>18</title>\n<path fill=\"#eeab7b\" stroke=\"#000000\" d=\"M591,-298.5C591,-298.5 500,-298.5 500,-298.5 494,-298.5 488,-292.5 488,-286.5 488,-286.5 488,-242.5 488,-242.5 488,-236.5 494,-230.5 500,-230.5 500,-230.5 591,-230.5 591,-230.5 597,-230.5 603,-236.5 603,-242.5 603,-242.5 603,-286.5 603,-286.5 603,-292.5 597,-298.5 591,-298.5\"/>\n<text text-anchor=\"start\" x=\"507.5\" y=\"-283.3\" font-family=\"Helvetica,sans-Serif\" font-size=\"14.00\" fill=\"#000000\">gini = 0.375</text>\n<text text-anchor=\"start\" x=\"506\" y=\"-268.3\" font-family=\"Helvetica,sans-Serif\" font-size=\"14.00\" fill=\"#000000\">samples = 4</text>\n<text text-anchor=\"start\" x=\"496\" y=\"-253.3\" font-family=\"Helvetica,sans-Serif\" font-size=\"14.00\" fill=\"#000000\">value = [3, 1, 0]</text>\n<text text-anchor=\"start\" x=\"500.5\" y=\"-238.3\" font-family=\"Helvetica,sans-Serif\" font-size=\"14.00\" fill=\"#000000\">class = mediu</text>\n</g>\n<!-- 16&#45;&gt;18 -->\n<g id=\"edge18\" class=\"edge\">\n<title>16&#45;&gt;18</title>\n<path fill=\"none\" stroke=\"#000000\" d=\"M460.3174,-341.8796C473.2697,-330.1138 487.354,-317.3197 500.2714,-305.5855\"/>\n<polygon fill=\"#000000\" stroke=\"#000000\" points=\"502.6761,-308.1296 507.7247,-298.8149 497.9694,-302.9482 502.6761,-308.1296\"/>\n</g>\n<!-- 21 -->\n<g id=\"node22\" class=\"node\">\n<title>21</title>\n<path fill=\"#39e581\" stroke=\"#000000\" d=\"M769,-417.5C769,-417.5 678,-417.5 678,-417.5 672,-417.5 666,-411.5 666,-405.5 666,-405.5 666,-361.5 666,-361.5 666,-355.5 672,-349.5 678,-349.5 678,-349.5 769,-349.5 769,-349.5 775,-349.5 781,-355.5 781,-361.5 781,-361.5 781,-405.5 781,-405.5 781,-411.5 775,-417.5 769,-417.5\"/>\n<text text-anchor=\"start\" x=\"694\" y=\"-402.3\" font-family=\"Helvetica,sans-Serif\" font-size=\"14.00\" fill=\"#000000\">gini = 0.0</text>\n<text text-anchor=\"start\" x=\"684\" y=\"-387.3\" font-family=\"Helvetica,sans-Serif\" font-size=\"14.00\" fill=\"#000000\">samples = 1</text>\n<text text-anchor=\"start\" x=\"674\" y=\"-372.3\" font-family=\"Helvetica,sans-Serif\" font-size=\"14.00\" fill=\"#000000\">value = [0, 1, 0]</text>\n<text text-anchor=\"start\" x=\"687\" y=\"-357.3\" font-family=\"Helvetica,sans-Serif\" font-size=\"14.00\" fill=\"#000000\">class = mic</text>\n</g>\n<!-- 20&#45;&gt;21 -->\n<g id=\"edge21\" class=\"edge\">\n<title>20&#45;&gt;21</title>\n<path fill=\"none\" stroke=\"#000000\" d=\"M738.4557,-460.8796C736.3942,-450.2134 734.1693,-438.7021 732.0818,-427.9015\"/>\n<polygon fill=\"#000000\" stroke=\"#000000\" points=\"735.4664,-426.969 730.1323,-417.8149 728.5936,-428.2974 735.4664,-426.969\"/>\n</g>\n<!-- 22 -->\n<g id=\"node23\" class=\"node\">\n<title>22</title>\n<path fill=\"#e58139\" stroke=\"#000000\" d=\"M902,-417.5C902,-417.5 811,-417.5 811,-417.5 805,-417.5 799,-411.5 799,-405.5 799,-405.5 799,-361.5 799,-361.5 799,-355.5 805,-349.5 811,-349.5 811,-349.5 902,-349.5 902,-349.5 908,-349.5 914,-355.5 914,-361.5 914,-361.5 914,-405.5 914,-405.5 914,-411.5 908,-417.5 902,-417.5\"/>\n<text text-anchor=\"start\" x=\"827\" y=\"-402.3\" font-family=\"Helvetica,sans-Serif\" font-size=\"14.00\" fill=\"#000000\">gini = 0.0</text>\n<text text-anchor=\"start\" x=\"817\" y=\"-387.3\" font-family=\"Helvetica,sans-Serif\" font-size=\"14.00\" fill=\"#000000\">samples = 2</text>\n<text text-anchor=\"start\" x=\"807\" y=\"-372.3\" font-family=\"Helvetica,sans-Serif\" font-size=\"14.00\" fill=\"#000000\">value = [2, 0, 0]</text>\n<text text-anchor=\"start\" x=\"811.5\" y=\"-357.3\" font-family=\"Helvetica,sans-Serif\" font-size=\"14.00\" fill=\"#000000\">class = mediu</text>\n</g>\n<!-- 20&#45;&gt;22 -->\n<g id=\"edge22\" class=\"edge\">\n<title>20&#45;&gt;22</title>\n<path fill=\"none\" stroke=\"#000000\" d=\"M784.9727,-460.8796C795.6453,-449.3337 807.2333,-436.7976 817.9125,-425.2446\"/>\n<polygon fill=\"#000000\" stroke=\"#000000\" points=\"820.5625,-427.534 824.7803,-417.8149 815.4222,-422.7825 820.5625,-427.534\"/>\n</g>\n<!-- 24 -->\n<g id=\"node25\" class=\"node\">\n<title>24</title>\n<path fill=\"#a774ed\" stroke=\"#000000\" d=\"M1179,-663C1179,-663 1074,-663 1074,-663 1068,-663 1062,-657 1062,-651 1062,-651 1062,-592 1062,-592 1062,-586 1068,-580 1074,-580 1074,-580 1179,-580 1179,-580 1185,-580 1191,-586 1191,-592 1191,-592 1191,-651 1191,-651 1191,-657 1185,-663 1179,-663\"/>\n<text text-anchor=\"start\" x=\"1070\" y=\"-647.8\" font-family=\"Helvetica,sans-Serif\" font-size=\"14.00\" fill=\"#000000\">Impedanta ≤ 50.1</text>\n<text text-anchor=\"start\" x=\"1088.5\" y=\"-632.8\" font-family=\"Helvetica,sans-Serif\" font-size=\"14.00\" fill=\"#000000\">gini = 0.355</text>\n<text text-anchor=\"start\" x=\"1082.5\" y=\"-617.8\" font-family=\"Helvetica,sans-Serif\" font-size=\"14.00\" fill=\"#000000\">samples = 13</text>\n<text text-anchor=\"start\" x=\"1073\" y=\"-602.8\" font-family=\"Helvetica,sans-Serif\" font-size=\"14.00\" fill=\"#000000\">value = [0, 3, 10]</text>\n<text text-anchor=\"start\" x=\"1085\" y=\"-587.8\" font-family=\"Helvetica,sans-Serif\" font-size=\"14.00\" fill=\"#000000\">class = mare</text>\n</g>\n<!-- 23&#45;&gt;24 -->\n<g id=\"edge24\" class=\"edge\">\n<title>23&#45;&gt;24</title>\n<path fill=\"none\" stroke=\"#000000\" d=\"M1185.0224,-698.8796C1178.3471,-690.0534 1171.2342,-680.6485 1164.3504,-671.5466\"/>\n<polygon fill=\"#000000\" stroke=\"#000000\" points=\"1166.9357,-669.1626 1158.112,-663.2981 1161.3526,-673.3852 1166.9357,-669.1626\"/>\n</g>\n<!-- 35 -->\n<g id=\"node36\" class=\"node\">\n<title>35</title>\n<path fill=\"#bdf6d5\" stroke=\"#000000\" d=\"M1398,-663C1398,-663 1221,-663 1221,-663 1215,-663 1209,-657 1209,-651 1209,-651 1209,-592 1209,-592 1209,-586 1215,-580 1221,-580 1221,-580 1398,-580 1398,-580 1404,-580 1410,-586 1410,-592 1410,-592 1410,-651 1410,-651 1410,-657 1404,-663 1398,-663\"/>\n<text text-anchor=\"start\" x=\"1217\" y=\"-647.8\" font-family=\"Helvetica,sans-Serif\" font-size=\"14.00\" fill=\"#000000\">Frecventa microfon ≤ 9100.0</text>\n<text text-anchor=\"start\" x=\"1276\" y=\"-632.8\" font-family=\"Helvetica,sans-Serif\" font-size=\"14.00\" fill=\"#000000\">gini = 0.48</text>\n<text text-anchor=\"start\" x=\"1270\" y=\"-617.8\" font-family=\"Helvetica,sans-Serif\" font-size=\"14.00\" fill=\"#000000\">samples = 5</text>\n<text text-anchor=\"start\" x=\"1260\" y=\"-602.8\" font-family=\"Helvetica,sans-Serif\" font-size=\"14.00\" fill=\"#000000\">value = [2, 3, 0]</text>\n<text text-anchor=\"start\" x=\"1273\" y=\"-587.8\" font-family=\"Helvetica,sans-Serif\" font-size=\"14.00\" fill=\"#000000\">class = mic</text>\n</g>\n<!-- 23&#45;&gt;35 -->\n<g id=\"edge35\" class=\"edge\">\n<title>23&#45;&gt;35</title>\n<path fill=\"none\" stroke=\"#000000\" d=\"M1249.0269,-698.8796C1255.9951,-689.9633 1263.4247,-680.4565 1270.6056,-671.268\"/>\n<polygon fill=\"#000000\" stroke=\"#000000\" points=\"1273.4343,-673.3326 1276.8343,-663.2981 1267.9188,-669.0221 1273.4343,-673.3326\"/>\n</g>\n<!-- 25 -->\n<g id=\"node26\" class=\"node\">\n<title>25</title>\n<path fill=\"#9a61ea\" stroke=\"#000000\" d=\"M1089,-544C1089,-544 904,-544 904,-544 898,-544 892,-538 892,-532 892,-532 892,-473 892,-473 892,-467 898,-461 904,-461 904,-461 1089,-461 1089,-461 1095,-461 1101,-467 1101,-473 1101,-473 1101,-532 1101,-532 1101,-538 1095,-544 1089,-544\"/>\n<text text-anchor=\"start\" x=\"900\" y=\"-528.8\" font-family=\"Helvetica,sans-Serif\" font-size=\"14.00\" fill=\"#000000\">Frecventa microfon ≤ 12500.0</text>\n<text text-anchor=\"start\" x=\"958.5\" y=\"-513.8\" font-family=\"Helvetica,sans-Serif\" font-size=\"14.00\" fill=\"#000000\">gini = 0.278</text>\n<text text-anchor=\"start\" x=\"952.5\" y=\"-498.8\" font-family=\"Helvetica,sans-Serif\" font-size=\"14.00\" fill=\"#000000\">samples = 12</text>\n<text text-anchor=\"start\" x=\"943\" y=\"-483.8\" font-family=\"Helvetica,sans-Serif\" font-size=\"14.00\" fill=\"#000000\">value = [0, 2, 10]</text>\n<text text-anchor=\"start\" x=\"955\" y=\"-468.8\" font-family=\"Helvetica,sans-Serif\" font-size=\"14.00\" fill=\"#000000\">class = mare</text>\n</g>\n<!-- 24&#45;&gt;25 -->\n<g id=\"edge25\" class=\"edge\">\n<title>24&#45;&gt;25</title>\n<path fill=\"none\" stroke=\"#000000\" d=\"M1081.0323,-579.8796C1070.8983,-570.6031 1060.066,-560.6874 1049.6535,-551.1559\"/>\n<polygon fill=\"#000000\" stroke=\"#000000\" points=\"1051.9013,-548.4685 1042.1618,-544.2981 1047.1748,-553.6319 1051.9013,-548.4685\"/>\n</g>\n<!-- 34 -->\n<g id=\"node35\" class=\"node\">\n<title>34</title>\n<path fill=\"#39e581\" stroke=\"#000000\" d=\"M1222,-536.5C1222,-536.5 1131,-536.5 1131,-536.5 1125,-536.5 1119,-530.5 1119,-524.5 1119,-524.5 1119,-480.5 1119,-480.5 1119,-474.5 1125,-468.5 1131,-468.5 1131,-468.5 1222,-468.5 1222,-468.5 1228,-468.5 1234,-474.5 1234,-480.5 1234,-480.5 1234,-524.5 1234,-524.5 1234,-530.5 1228,-536.5 1222,-536.5\"/>\n<text text-anchor=\"start\" x=\"1147\" y=\"-521.3\" font-family=\"Helvetica,sans-Serif\" font-size=\"14.00\" fill=\"#000000\">gini = 0.0</text>\n<text text-anchor=\"start\" x=\"1137\" y=\"-506.3\" font-family=\"Helvetica,sans-Serif\" font-size=\"14.00\" fill=\"#000000\">samples = 1</text>\n<text text-anchor=\"start\" x=\"1127\" y=\"-491.3\" font-family=\"Helvetica,sans-Serif\" font-size=\"14.00\" fill=\"#000000\">value = [0, 1, 0]</text>\n<text text-anchor=\"start\" x=\"1140\" y=\"-476.3\" font-family=\"Helvetica,sans-Serif\" font-size=\"14.00\" fill=\"#000000\">class = mic</text>\n</g>\n<!-- 24&#45;&gt;34 -->\n<g id=\"edge34\" class=\"edge\">\n<title>24&#45;&gt;34</title>\n<path fill=\"none\" stroke=\"#000000\" d=\"M1143.9876,-579.8796C1148.5616,-568.9935 1153.5054,-557.227 1158.1242,-546.2344\"/>\n<polygon fill=\"#000000\" stroke=\"#000000\" points=\"1161.435,-547.39 1162.082,-536.8149 1154.9815,-544.6784 1161.435,-547.39\"/>\n</g>\n<!-- 26 -->\n<g id=\"node27\" class=\"node\">\n<title>26</title>\n<path fill=\"#b388ef\" stroke=\"#000000\" d=\"M1049,-425C1049,-425 944,-425 944,-425 938,-425 932,-419 932,-413 932,-413 932,-354 932,-354 932,-348 938,-342 944,-342 944,-342 1049,-342 1049,-342 1055,-342 1061,-348 1061,-354 1061,-354 1061,-413 1061,-413 1061,-419 1055,-425 1049,-425\"/>\n<text text-anchor=\"start\" x=\"940\" y=\"-409.8\" font-family=\"Helvetica,sans-Serif\" font-size=\"14.00\" fill=\"#000000\">Impedanta ≤ 26.0</text>\n<text text-anchor=\"start\" x=\"958.5\" y=\"-394.8\" font-family=\"Helvetica,sans-Serif\" font-size=\"14.00\" fill=\"#000000\">gini = 0.408</text>\n<text text-anchor=\"start\" x=\"957\" y=\"-379.8\" font-family=\"Helvetica,sans-Serif\" font-size=\"14.00\" fill=\"#000000\">samples = 7</text>\n<text text-anchor=\"start\" x=\"947\" y=\"-364.8\" font-family=\"Helvetica,sans-Serif\" font-size=\"14.00\" fill=\"#000000\">value = [0, 2, 5]</text>\n<text text-anchor=\"start\" x=\"955\" y=\"-349.8\" font-family=\"Helvetica,sans-Serif\" font-size=\"14.00\" fill=\"#000000\">class = mare</text>\n</g>\n<!-- 25&#45;&gt;26 -->\n<g id=\"edge26\" class=\"edge\">\n<title>25&#45;&gt;26</title>\n<path fill=\"none\" stroke=\"#000000\" d=\"M996.5,-460.8796C996.5,-452.6838 996.5,-443.9891 996.5,-435.5013\"/>\n<polygon fill=\"#000000\" stroke=\"#000000\" points=\"1000.0001,-435.298 996.5,-425.2981 993.0001,-435.2981 1000.0001,-435.298\"/>\n</g>\n<!-- 33 -->\n<g id=\"node34\" class=\"node\">\n<title>33</title>\n<path fill=\"#8139e5\" stroke=\"#000000\" d=\"M1182,-417.5C1182,-417.5 1091,-417.5 1091,-417.5 1085,-417.5 1079,-411.5 1079,-405.5 1079,-405.5 1079,-361.5 1079,-361.5 1079,-355.5 1085,-349.5 1091,-349.5 1091,-349.5 1182,-349.5 1182,-349.5 1188,-349.5 1194,-355.5 1194,-361.5 1194,-361.5 1194,-405.5 1194,-405.5 1194,-411.5 1188,-417.5 1182,-417.5\"/>\n<text text-anchor=\"start\" x=\"1107\" y=\"-402.3\" font-family=\"Helvetica,sans-Serif\" font-size=\"14.00\" fill=\"#000000\">gini = 0.0</text>\n<text text-anchor=\"start\" x=\"1097\" y=\"-387.3\" font-family=\"Helvetica,sans-Serif\" font-size=\"14.00\" fill=\"#000000\">samples = 5</text>\n<text text-anchor=\"start\" x=\"1087\" y=\"-372.3\" font-family=\"Helvetica,sans-Serif\" font-size=\"14.00\" fill=\"#000000\">value = [0, 0, 5]</text>\n<text text-anchor=\"start\" x=\"1095\" y=\"-357.3\" font-family=\"Helvetica,sans-Serif\" font-size=\"14.00\" fill=\"#000000\">class = mare</text>\n</g>\n<!-- 25&#45;&gt;33 -->\n<g id=\"edge33\" class=\"edge\">\n<title>25&#45;&gt;33</title>\n<path fill=\"none\" stroke=\"#000000\" d=\"M1045.4652,-460.8796C1059.3073,-449.1138 1074.3592,-436.3197 1088.1641,-424.5855\"/>\n<polygon fill=\"#000000\" stroke=\"#000000\" points=\"1090.7769,-426.9582 1096.1295,-417.8149 1086.2433,-421.6247 1090.7769,-426.9582\"/>\n</g>\n<!-- 27 -->\n<g id=\"node28\" class=\"node\">\n<title>27</title>\n<path fill=\"#39e581\" stroke=\"#000000\" d=\"M954,-298.5C954,-298.5 863,-298.5 863,-298.5 857,-298.5 851,-292.5 851,-286.5 851,-286.5 851,-242.5 851,-242.5 851,-236.5 857,-230.5 863,-230.5 863,-230.5 954,-230.5 954,-230.5 960,-230.5 966,-236.5 966,-242.5 966,-242.5 966,-286.5 966,-286.5 966,-292.5 960,-298.5 954,-298.5\"/>\n<text text-anchor=\"start\" x=\"879\" y=\"-283.3\" font-family=\"Helvetica,sans-Serif\" font-size=\"14.00\" fill=\"#000000\">gini = 0.0</text>\n<text text-anchor=\"start\" x=\"869\" y=\"-268.3\" font-family=\"Helvetica,sans-Serif\" font-size=\"14.00\" fill=\"#000000\">samples = 1</text>\n<text text-anchor=\"start\" x=\"859\" y=\"-253.3\" font-family=\"Helvetica,sans-Serif\" font-size=\"14.00\" fill=\"#000000\">value = [0, 1, 0]</text>\n<text text-anchor=\"start\" x=\"872\" y=\"-238.3\" font-family=\"Helvetica,sans-Serif\" font-size=\"14.00\" fill=\"#000000\">class = mic</text>\n</g>\n<!-- 26&#45;&gt;27 -->\n<g id=\"edge27\" class=\"edge\">\n<title>26&#45;&gt;27</title>\n<path fill=\"none\" stroke=\"#000000\" d=\"M965.7219,-341.8796C957.3464,-330.5536 948.2662,-318.2748 939.8589,-306.9058\"/>\n<polygon fill=\"#000000\" stroke=\"#000000\" points=\"942.6357,-304.7743 933.8758,-298.8149 937.0075,-308.9364 942.6357,-304.7743\"/>\n</g>\n<!-- 28 -->\n<g id=\"node29\" class=\"node\">\n<title>28</title>\n<path fill=\"#9a61ea\" stroke=\"#000000\" d=\"M1173,-306C1173,-306 996,-306 996,-306 990,-306 984,-300 984,-294 984,-294 984,-235 984,-235 984,-229 990,-223 996,-223 996,-223 1173,-223 1173,-223 1179,-223 1185,-229 1185,-235 1185,-235 1185,-294 1185,-294 1185,-300 1179,-306 1173,-306\"/>\n<text text-anchor=\"start\" x=\"992\" y=\"-290.8\" font-family=\"Helvetica,sans-Serif\" font-size=\"14.00\" fill=\"#000000\">Frecventa microfon ≤ 7250.0</text>\n<text text-anchor=\"start\" x=\"1046.5\" y=\"-275.8\" font-family=\"Helvetica,sans-Serif\" font-size=\"14.00\" fill=\"#000000\">gini = 0.278</text>\n<text text-anchor=\"start\" x=\"1045\" y=\"-260.8\" font-family=\"Helvetica,sans-Serif\" font-size=\"14.00\" fill=\"#000000\">samples = 6</text>\n<text text-anchor=\"start\" x=\"1035\" y=\"-245.8\" font-family=\"Helvetica,sans-Serif\" font-size=\"14.00\" fill=\"#000000\">value = [0, 1, 5]</text>\n<text text-anchor=\"start\" x=\"1043\" y=\"-230.8\" font-family=\"Helvetica,sans-Serif\" font-size=\"14.00\" fill=\"#000000\">class = mare</text>\n</g>\n<!-- 26&#45;&gt;28 -->\n<g id=\"edge28\" class=\"edge\">\n<title>26&#45;&gt;28</title>\n<path fill=\"none\" stroke=\"#000000\" d=\"M1027.2781,-341.8796C1033.8051,-333.0534 1040.7599,-323.6485 1047.4908,-314.5466\"/>\n<polygon fill=\"#000000\" stroke=\"#000000\" points=\"1050.4588,-316.4195 1053.5905,-306.2981 1044.8305,-312.2574 1050.4588,-316.4195\"/>\n</g>\n<!-- 29 -->\n<g id=\"node30\" class=\"node\">\n<title>29</title>\n<path fill=\"#8139e5\" stroke=\"#000000\" d=\"M1042,-179.5C1042,-179.5 951,-179.5 951,-179.5 945,-179.5 939,-173.5 939,-167.5 939,-167.5 939,-123.5 939,-123.5 939,-117.5 945,-111.5 951,-111.5 951,-111.5 1042,-111.5 1042,-111.5 1048,-111.5 1054,-117.5 1054,-123.5 1054,-123.5 1054,-167.5 1054,-167.5 1054,-173.5 1048,-179.5 1042,-179.5\"/>\n<text text-anchor=\"start\" x=\"967\" y=\"-164.3\" font-family=\"Helvetica,sans-Serif\" font-size=\"14.00\" fill=\"#000000\">gini = 0.0</text>\n<text text-anchor=\"start\" x=\"957\" y=\"-149.3\" font-family=\"Helvetica,sans-Serif\" font-size=\"14.00\" fill=\"#000000\">samples = 2</text>\n<text text-anchor=\"start\" x=\"947\" y=\"-134.3\" font-family=\"Helvetica,sans-Serif\" font-size=\"14.00\" fill=\"#000000\">value = [0, 0, 2]</text>\n<text text-anchor=\"start\" x=\"955\" y=\"-119.3\" font-family=\"Helvetica,sans-Serif\" font-size=\"14.00\" fill=\"#000000\">class = mare</text>\n</g>\n<!-- 28&#45;&gt;29 -->\n<g id=\"edge29\" class=\"edge\">\n<title>28&#45;&gt;29</title>\n<path fill=\"none\" stroke=\"#000000\" d=\"M1053.7219,-222.8796C1045.3464,-211.5536 1036.2662,-199.2748 1027.8589,-187.9058\"/>\n<polygon fill=\"#000000\" stroke=\"#000000\" points=\"1030.6357,-185.7743 1021.8758,-179.8149 1025.0075,-189.9364 1030.6357,-185.7743\"/>\n</g>\n<!-- 30 -->\n<g id=\"node31\" class=\"node\">\n<title>30</title>\n<path fill=\"#ab7bee\" stroke=\"#000000\" d=\"M1261,-187C1261,-187 1084,-187 1084,-187 1078,-187 1072,-181 1072,-175 1072,-175 1072,-116 1072,-116 1072,-110 1078,-104 1084,-104 1084,-104 1261,-104 1261,-104 1267,-104 1273,-110 1273,-116 1273,-116 1273,-175 1273,-175 1273,-181 1267,-187 1261,-187\"/>\n<text text-anchor=\"start\" x=\"1080\" y=\"-171.8\" font-family=\"Helvetica,sans-Serif\" font-size=\"14.00\" fill=\"#000000\">Frecventa microfon ≤ 8350.0</text>\n<text text-anchor=\"start\" x=\"1134.5\" y=\"-156.8\" font-family=\"Helvetica,sans-Serif\" font-size=\"14.00\" fill=\"#000000\">gini = 0.375</text>\n<text text-anchor=\"start\" x=\"1133\" y=\"-141.8\" font-family=\"Helvetica,sans-Serif\" font-size=\"14.00\" fill=\"#000000\">samples = 4</text>\n<text text-anchor=\"start\" x=\"1123\" y=\"-126.8\" font-family=\"Helvetica,sans-Serif\" font-size=\"14.00\" fill=\"#000000\">value = [0, 1, 3]</text>\n<text text-anchor=\"start\" x=\"1131\" y=\"-111.8\" font-family=\"Helvetica,sans-Serif\" font-size=\"14.00\" fill=\"#000000\">class = mare</text>\n</g>\n<!-- 28&#45;&gt;30 -->\n<g id=\"edge30\" class=\"edge\">\n<title>28&#45;&gt;30</title>\n<path fill=\"none\" stroke=\"#000000\" d=\"M1115.2781,-222.8796C1121.8051,-214.0534 1128.7599,-204.6485 1135.4908,-195.5466\"/>\n<polygon fill=\"#000000\" stroke=\"#000000\" points=\"1138.4588,-197.4195 1141.5905,-187.2981 1132.8305,-193.2574 1138.4588,-197.4195\"/>\n</g>\n<!-- 31 -->\n<g id=\"node32\" class=\"node\">\n<title>31</title>\n<path fill=\"#ffffff\" stroke=\"#000000\" d=\"M1151,-68C1151,-68 1060,-68 1060,-68 1054,-68 1048,-62 1048,-56 1048,-56 1048,-12 1048,-12 1048,-6 1054,0 1060,0 1060,0 1151,0 1151,0 1157,0 1163,-6 1163,-12 1163,-12 1163,-56 1163,-56 1163,-62 1157,-68 1151,-68\"/>\n<text text-anchor=\"start\" x=\"1076\" y=\"-52.8\" font-family=\"Helvetica,sans-Serif\" font-size=\"14.00\" fill=\"#000000\">gini = 0.5</text>\n<text text-anchor=\"start\" x=\"1066\" y=\"-37.8\" font-family=\"Helvetica,sans-Serif\" font-size=\"14.00\" fill=\"#000000\">samples = 2</text>\n<text text-anchor=\"start\" x=\"1056\" y=\"-22.8\" font-family=\"Helvetica,sans-Serif\" font-size=\"14.00\" fill=\"#000000\">value = [0, 1, 1]</text>\n<text text-anchor=\"start\" x=\"1069\" y=\"-7.8\" font-family=\"Helvetica,sans-Serif\" font-size=\"14.00\" fill=\"#000000\">class = mic</text>\n</g>\n<!-- 30&#45;&gt;31 -->\n<g id=\"edge31\" class=\"edge\">\n<title>30&#45;&gt;31</title>\n<path fill=\"none\" stroke=\"#000000\" d=\"M1147.5517,-103.9815C1142.2499,-95.1585 1136.6419,-85.8258 1131.3089,-76.9506\"/>\n<polygon fill=\"#000000\" stroke=\"#000000\" points=\"1134.2396,-75.0325 1126.0889,-68.2637 1128.2395,-78.638 1134.2396,-75.0325\"/>\n</g>\n<!-- 32 -->\n<g id=\"node33\" class=\"node\">\n<title>32</title>\n<path fill=\"#8139e5\" stroke=\"#000000\" d=\"M1284,-68C1284,-68 1193,-68 1193,-68 1187,-68 1181,-62 1181,-56 1181,-56 1181,-12 1181,-12 1181,-6 1187,0 1193,0 1193,0 1284,0 1284,0 1290,0 1296,-6 1296,-12 1296,-12 1296,-56 1296,-56 1296,-62 1290,-68 1284,-68\"/>\n<text text-anchor=\"start\" x=\"1209\" y=\"-52.8\" font-family=\"Helvetica,sans-Serif\" font-size=\"14.00\" fill=\"#000000\">gini = 0.0</text>\n<text text-anchor=\"start\" x=\"1199\" y=\"-37.8\" font-family=\"Helvetica,sans-Serif\" font-size=\"14.00\" fill=\"#000000\">samples = 2</text>\n<text text-anchor=\"start\" x=\"1189\" y=\"-22.8\" font-family=\"Helvetica,sans-Serif\" font-size=\"14.00\" fill=\"#000000\">value = [0, 0, 2]</text>\n<text text-anchor=\"start\" x=\"1197\" y=\"-7.8\" font-family=\"Helvetica,sans-Serif\" font-size=\"14.00\" fill=\"#000000\">class = mare</text>\n</g>\n<!-- 30&#45;&gt;32 -->\n<g id=\"edge32\" class=\"edge\">\n<title>30&#45;&gt;32</title>\n<path fill=\"none\" stroke=\"#000000\" d=\"M1197.076,-103.9815C1202.2986,-95.1585 1207.8229,-85.8258 1213.0763,-76.9506\"/>\n<polygon fill=\"#000000\" stroke=\"#000000\" points=\"1216.1364,-78.652 1218.2184,-68.2637 1210.1126,-75.0863 1216.1364,-78.652\"/>\n</g>\n<!-- 36 -->\n<g id=\"node37\" class=\"node\">\n<title>36</title>\n<path fill=\"#e58139\" stroke=\"#000000\" d=\"M1355,-536.5C1355,-536.5 1264,-536.5 1264,-536.5 1258,-536.5 1252,-530.5 1252,-524.5 1252,-524.5 1252,-480.5 1252,-480.5 1252,-474.5 1258,-468.5 1264,-468.5 1264,-468.5 1355,-468.5 1355,-468.5 1361,-468.5 1367,-474.5 1367,-480.5 1367,-480.5 1367,-524.5 1367,-524.5 1367,-530.5 1361,-536.5 1355,-536.5\"/>\n<text text-anchor=\"start\" x=\"1280\" y=\"-521.3\" font-family=\"Helvetica,sans-Serif\" font-size=\"14.00\" fill=\"#000000\">gini = 0.0</text>\n<text text-anchor=\"start\" x=\"1270\" y=\"-506.3\" font-family=\"Helvetica,sans-Serif\" font-size=\"14.00\" fill=\"#000000\">samples = 1</text>\n<text text-anchor=\"start\" x=\"1260\" y=\"-491.3\" font-family=\"Helvetica,sans-Serif\" font-size=\"14.00\" fill=\"#000000\">value = [1, 0, 0]</text>\n<text text-anchor=\"start\" x=\"1264.5\" y=\"-476.3\" font-family=\"Helvetica,sans-Serif\" font-size=\"14.00\" fill=\"#000000\">class = mediu</text>\n</g>\n<!-- 35&#45;&gt;36 -->\n<g id=\"edge36\" class=\"edge\">\n<title>35&#45;&gt;36</title>\n<path fill=\"none\" stroke=\"#000000\" d=\"M1309.5,-579.8796C1309.5,-569.2134 1309.5,-557.7021 1309.5,-546.9015\"/>\n<polygon fill=\"#000000\" stroke=\"#000000\" points=\"1313.0001,-546.8149 1309.5,-536.8149 1306.0001,-546.815 1313.0001,-546.8149\"/>\n</g>\n<!-- 37 -->\n<g id=\"node38\" class=\"node\">\n<title>37</title>\n<path fill=\"#7beeab\" stroke=\"#000000\" d=\"M1488,-544C1488,-544 1397,-544 1397,-544 1391,-544 1385,-538 1385,-532 1385,-532 1385,-473 1385,-473 1385,-467 1391,-461 1397,-461 1397,-461 1488,-461 1488,-461 1494,-461 1500,-467 1500,-473 1500,-473 1500,-532 1500,-532 1500,-538 1494,-544 1488,-544\"/>\n<text text-anchor=\"start\" x=\"1405\" y=\"-528.8\" font-family=\"Helvetica,sans-Serif\" font-size=\"14.00\" fill=\"#000000\">Brand ≤ 5.5</text>\n<text text-anchor=\"start\" x=\"1404.5\" y=\"-513.8\" font-family=\"Helvetica,sans-Serif\" font-size=\"14.00\" fill=\"#000000\">gini = 0.375</text>\n<text text-anchor=\"start\" x=\"1403\" y=\"-498.8\" font-family=\"Helvetica,sans-Serif\" font-size=\"14.00\" fill=\"#000000\">samples = 4</text>\n<text text-anchor=\"start\" x=\"1393\" y=\"-483.8\" font-family=\"Helvetica,sans-Serif\" font-size=\"14.00\" fill=\"#000000\">value = [1, 3, 0]</text>\n<text text-anchor=\"start\" x=\"1406\" y=\"-468.8\" font-family=\"Helvetica,sans-Serif\" font-size=\"14.00\" fill=\"#000000\">class = mic</text>\n</g>\n<!-- 35&#45;&gt;37 -->\n<g id=\"edge37\" class=\"edge\">\n<title>35&#45;&gt;37</title>\n<path fill=\"none\" stroke=\"#000000\" d=\"M1356.0169,-579.8796C1366.3848,-570.6031 1377.4671,-560.6874 1388.1199,-551.1559\"/>\n<polygon fill=\"#000000\" stroke=\"#000000\" points=\"1390.6659,-553.5744 1395.7845,-544.2981 1385.9983,-548.3577 1390.6659,-553.5744\"/>\n</g>\n<!-- 38 -->\n<g id=\"node39\" class=\"node\">\n<title>38</title>\n<path fill=\"#39e581\" stroke=\"#000000\" d=\"M1422,-417.5C1422,-417.5 1331,-417.5 1331,-417.5 1325,-417.5 1319,-411.5 1319,-405.5 1319,-405.5 1319,-361.5 1319,-361.5 1319,-355.5 1325,-349.5 1331,-349.5 1331,-349.5 1422,-349.5 1422,-349.5 1428,-349.5 1434,-355.5 1434,-361.5 1434,-361.5 1434,-405.5 1434,-405.5 1434,-411.5 1428,-417.5 1422,-417.5\"/>\n<text text-anchor=\"start\" x=\"1347\" y=\"-402.3\" font-family=\"Helvetica,sans-Serif\" font-size=\"14.00\" fill=\"#000000\">gini = 0.0</text>\n<text text-anchor=\"start\" x=\"1337\" y=\"-387.3\" font-family=\"Helvetica,sans-Serif\" font-size=\"14.00\" fill=\"#000000\">samples = 2</text>\n<text text-anchor=\"start\" x=\"1327\" y=\"-372.3\" font-family=\"Helvetica,sans-Serif\" font-size=\"14.00\" fill=\"#000000\">value = [0, 2, 0]</text>\n<text text-anchor=\"start\" x=\"1340\" y=\"-357.3\" font-family=\"Helvetica,sans-Serif\" font-size=\"14.00\" fill=\"#000000\">class = mic</text>\n</g>\n<!-- 37&#45;&gt;38 -->\n<g id=\"edge38\" class=\"edge\">\n<title>37&#45;&gt;38</title>\n<path fill=\"none\" stroke=\"#000000\" d=\"M1419.4164,-460.8796C1413.2567,-449.7735 1406.5889,-437.7513 1400.3871,-426.5691\"/>\n<polygon fill=\"#000000\" stroke=\"#000000\" points=\"1403.4428,-424.8624 1395.5318,-417.8149 1397.3213,-428.2576 1403.4428,-424.8624\"/>\n</g>\n<!-- 39 -->\n<g id=\"node40\" class=\"node\">\n<title>39</title>\n<path fill=\"#ffffff\" stroke=\"#000000\" d=\"M1555,-417.5C1555,-417.5 1464,-417.5 1464,-417.5 1458,-417.5 1452,-411.5 1452,-405.5 1452,-405.5 1452,-361.5 1452,-361.5 1452,-355.5 1458,-349.5 1464,-349.5 1464,-349.5 1555,-349.5 1555,-349.5 1561,-349.5 1567,-355.5 1567,-361.5 1567,-361.5 1567,-405.5 1567,-405.5 1567,-411.5 1561,-417.5 1555,-417.5\"/>\n<text text-anchor=\"start\" x=\"1480\" y=\"-402.3\" font-family=\"Helvetica,sans-Serif\" font-size=\"14.00\" fill=\"#000000\">gini = 0.5</text>\n<text text-anchor=\"start\" x=\"1470\" y=\"-387.3\" font-family=\"Helvetica,sans-Serif\" font-size=\"14.00\" fill=\"#000000\">samples = 2</text>\n<text text-anchor=\"start\" x=\"1460\" y=\"-372.3\" font-family=\"Helvetica,sans-Serif\" font-size=\"14.00\" fill=\"#000000\">value = [1, 1, 0]</text>\n<text text-anchor=\"start\" x=\"1464.5\" y=\"-357.3\" font-family=\"Helvetica,sans-Serif\" font-size=\"14.00\" fill=\"#000000\">class = mediu</text>\n</g>\n<!-- 37&#45;&gt;39 -->\n<g id=\"edge39\" class=\"edge\">\n<title>37&#45;&gt;39</title>\n<path fill=\"none\" stroke=\"#000000\" d=\"M1465.9333,-460.8796C1472.1863,-449.7735 1478.9552,-437.7513 1485.251,-426.5691\"/>\n<polygon fill=\"#000000\" stroke=\"#000000\" points=\"1488.3235,-428.2459 1490.1798,-417.8149 1482.2239,-424.8116 1488.3235,-428.2459\"/>\n</g>\n<!-- 41 -->\n<g id=\"node42\" class=\"node\">\n<title>41</title>\n<path fill=\"#ffffff\" stroke=\"#000000\" d=\"M1581,-782C1581,-782 1476,-782 1476,-782 1470,-782 1464,-776 1464,-770 1464,-770 1464,-711 1464,-711 1464,-705 1470,-699 1476,-699 1476,-699 1581,-699 1581,-699 1587,-699 1593,-705 1593,-711 1593,-711 1593,-770 1593,-770 1593,-776 1587,-782 1581,-782\"/>\n<text text-anchor=\"start\" x=\"1472\" y=\"-766.8\" font-family=\"Helvetica,sans-Serif\" font-size=\"14.00\" fill=\"#000000\">Impedanta ≤ 34.0</text>\n<text text-anchor=\"start\" x=\"1499\" y=\"-751.8\" font-family=\"Helvetica,sans-Serif\" font-size=\"14.00\" fill=\"#000000\">gini = 0.5</text>\n<text text-anchor=\"start\" x=\"1489\" y=\"-736.8\" font-family=\"Helvetica,sans-Serif\" font-size=\"14.00\" fill=\"#000000\">samples = 2</text>\n<text text-anchor=\"start\" x=\"1479\" y=\"-721.8\" font-family=\"Helvetica,sans-Serif\" font-size=\"14.00\" fill=\"#000000\">value = [0, 1, 1]</text>\n<text text-anchor=\"start\" x=\"1492\" y=\"-706.8\" font-family=\"Helvetica,sans-Serif\" font-size=\"14.00\" fill=\"#000000\">class = mic</text>\n</g>\n<!-- 40&#45;&gt;41 -->\n<g id=\"edge41\" class=\"edge\">\n<title>40&#45;&gt;41</title>\n<path fill=\"none\" stroke=\"#000000\" d=\"M1528.5,-817.8796C1528.5,-809.6838 1528.5,-800.9891 1528.5,-792.5013\"/>\n<polygon fill=\"#000000\" stroke=\"#000000\" points=\"1532.0001,-792.298 1528.5,-782.2981 1525.0001,-792.2981 1532.0001,-792.298\"/>\n</g>\n<!-- 44 -->\n<g id=\"node45\" class=\"node\">\n<title>44</title>\n<path fill=\"#e89152\" stroke=\"#000000\" d=\"M1851,-782C1851,-782 1666,-782 1666,-782 1660,-782 1654,-776 1654,-770 1654,-770 1654,-711 1654,-711 1654,-705 1660,-699 1666,-699 1666,-699 1851,-699 1851,-699 1857,-699 1863,-705 1863,-711 1863,-711 1863,-770 1863,-770 1863,-776 1857,-782 1851,-782\"/>\n<text text-anchor=\"start\" x=\"1662\" y=\"-766.8\" font-family=\"Helvetica,sans-Serif\" font-size=\"14.00\" fill=\"#000000\">Frecventa microfon ≤ 11000.0</text>\n<text text-anchor=\"start\" x=\"1720.5\" y=\"-751.8\" font-family=\"Helvetica,sans-Serif\" font-size=\"14.00\" fill=\"#000000\">gini = 0.198</text>\n<text text-anchor=\"start\" x=\"1714.5\" y=\"-736.8\" font-family=\"Helvetica,sans-Serif\" font-size=\"14.00\" fill=\"#000000\">samples = 18</text>\n<text text-anchor=\"start\" x=\"1705\" y=\"-721.8\" font-family=\"Helvetica,sans-Serif\" font-size=\"14.00\" fill=\"#000000\">value = [16, 2, 0]</text>\n<text text-anchor=\"start\" x=\"1713.5\" y=\"-706.8\" font-family=\"Helvetica,sans-Serif\" font-size=\"14.00\" fill=\"#000000\">class = mediu</text>\n</g>\n<!-- 40&#45;&gt;44 -->\n<g id=\"edge44\" class=\"edge\">\n<title>40&#45;&gt;44</title>\n<path fill=\"none\" stroke=\"#000000\" d=\"M1590.1358,-827.6102C1614.4044,-815.0538 1642.747,-800.3896 1669.1817,-786.7125\"/>\n<polygon fill=\"#000000\" stroke=\"#000000\" points=\"1670.7915,-789.8204 1678.0647,-782.1165 1667.5747,-783.6033 1670.7915,-789.8204\"/>\n</g>\n<!-- 42 -->\n<g id=\"node43\" class=\"node\">\n<title>42</title>\n<path fill=\"#39e581\" stroke=\"#000000\" d=\"M1531,-655.5C1531,-655.5 1440,-655.5 1440,-655.5 1434,-655.5 1428,-649.5 1428,-643.5 1428,-643.5 1428,-599.5 1428,-599.5 1428,-593.5 1434,-587.5 1440,-587.5 1440,-587.5 1531,-587.5 1531,-587.5 1537,-587.5 1543,-593.5 1543,-599.5 1543,-599.5 1543,-643.5 1543,-643.5 1543,-649.5 1537,-655.5 1531,-655.5\"/>\n<text text-anchor=\"start\" x=\"1456\" y=\"-640.3\" font-family=\"Helvetica,sans-Serif\" font-size=\"14.00\" fill=\"#000000\">gini = 0.0</text>\n<text text-anchor=\"start\" x=\"1446\" y=\"-625.3\" font-family=\"Helvetica,sans-Serif\" font-size=\"14.00\" fill=\"#000000\">samples = 1</text>\n<text text-anchor=\"start\" x=\"1436\" y=\"-610.3\" font-family=\"Helvetica,sans-Serif\" font-size=\"14.00\" fill=\"#000000\">value = [0, 1, 0]</text>\n<text text-anchor=\"start\" x=\"1449\" y=\"-595.3\" font-family=\"Helvetica,sans-Serif\" font-size=\"14.00\" fill=\"#000000\">class = mic</text>\n</g>\n<!-- 41&#45;&gt;42 -->\n<g id=\"edge42\" class=\"edge\">\n<title>41&#45;&gt;42</title>\n<path fill=\"none\" stroke=\"#000000\" d=\"M1513.4607,-698.8796C1509.527,-687.9935 1505.2753,-676.227 1501.3032,-665.2344\"/>\n<polygon fill=\"#000000\" stroke=\"#000000\" points=\"1504.5897,-664.0303 1497.8995,-655.8149 1498.0063,-666.4092 1504.5897,-664.0303\"/>\n</g>\n<!-- 43 -->\n<g id=\"node44\" class=\"node\">\n<title>43</title>\n<path fill=\"#8139e5\" stroke=\"#000000\" d=\"M1664,-655.5C1664,-655.5 1573,-655.5 1573,-655.5 1567,-655.5 1561,-649.5 1561,-643.5 1561,-643.5 1561,-599.5 1561,-599.5 1561,-593.5 1567,-587.5 1573,-587.5 1573,-587.5 1664,-587.5 1664,-587.5 1670,-587.5 1676,-593.5 1676,-599.5 1676,-599.5 1676,-643.5 1676,-643.5 1676,-649.5 1670,-655.5 1664,-655.5\"/>\n<text text-anchor=\"start\" x=\"1589\" y=\"-640.3\" font-family=\"Helvetica,sans-Serif\" font-size=\"14.00\" fill=\"#000000\">gini = 0.0</text>\n<text text-anchor=\"start\" x=\"1579\" y=\"-625.3\" font-family=\"Helvetica,sans-Serif\" font-size=\"14.00\" fill=\"#000000\">samples = 1</text>\n<text text-anchor=\"start\" x=\"1569\" y=\"-610.3\" font-family=\"Helvetica,sans-Serif\" font-size=\"14.00\" fill=\"#000000\">value = [0, 0, 1]</text>\n<text text-anchor=\"start\" x=\"1577\" y=\"-595.3\" font-family=\"Helvetica,sans-Serif\" font-size=\"14.00\" fill=\"#000000\">class = mare</text>\n</g>\n<!-- 41&#45;&gt;43 -->\n<g id=\"edge43\" class=\"edge\">\n<title>41&#45;&gt;43</title>\n<path fill=\"none\" stroke=\"#000000\" d=\"M1559.9776,-698.8796C1568.5435,-687.5536 1577.83,-675.2748 1586.4283,-663.9058\"/>\n<polygon fill=\"#000000\" stroke=\"#000000\" points=\"1589.3069,-665.902 1592.5475,-655.8149 1583.7238,-661.6795 1589.3069,-665.902\"/>\n</g>\n<!-- 45 -->\n<g id=\"node46\" class=\"node\">\n<title>45</title>\n<path fill=\"#eca06a\" stroke=\"#000000\" d=\"M1811,-663C1811,-663 1706,-663 1706,-663 1700,-663 1694,-657 1694,-651 1694,-651 1694,-592 1694,-592 1694,-586 1700,-580 1706,-580 1706,-580 1811,-580 1811,-580 1817,-580 1823,-586 1823,-592 1823,-592 1823,-651 1823,-651 1823,-657 1817,-663 1811,-663\"/>\n<text text-anchor=\"start\" x=\"1702\" y=\"-647.8\" font-family=\"Helvetica,sans-Serif\" font-size=\"14.00\" fill=\"#000000\">Impedanta ≤ 63.5</text>\n<text text-anchor=\"start\" x=\"1725\" y=\"-632.8\" font-family=\"Helvetica,sans-Serif\" font-size=\"14.00\" fill=\"#000000\">gini = 0.32</text>\n<text text-anchor=\"start\" x=\"1714.5\" y=\"-617.8\" font-family=\"Helvetica,sans-Serif\" font-size=\"14.00\" fill=\"#000000\">samples = 10</text>\n<text text-anchor=\"start\" x=\"1709\" y=\"-602.8\" font-family=\"Helvetica,sans-Serif\" font-size=\"14.00\" fill=\"#000000\">value = [8, 2, 0]</text>\n<text text-anchor=\"start\" x=\"1713.5\" y=\"-587.8\" font-family=\"Helvetica,sans-Serif\" font-size=\"14.00\" fill=\"#000000\">class = mediu</text>\n</g>\n<!-- 44&#45;&gt;45 -->\n<g id=\"edge45\" class=\"edge\">\n<title>44&#45;&gt;45</title>\n<path fill=\"none\" stroke=\"#000000\" d=\"M1758.5,-698.8796C1758.5,-690.6838 1758.5,-681.9891 1758.5,-673.5013\"/>\n<polygon fill=\"#000000\" stroke=\"#000000\" points=\"1762.0001,-673.298 1758.5,-663.2981 1755.0001,-673.2981 1762.0001,-673.298\"/>\n</g>\n<!-- 56 -->\n<g id=\"node57\" class=\"node\">\n<title>56</title>\n<path fill=\"#e58139\" stroke=\"#000000\" d=\"M1944,-655.5C1944,-655.5 1853,-655.5 1853,-655.5 1847,-655.5 1841,-649.5 1841,-643.5 1841,-643.5 1841,-599.5 1841,-599.5 1841,-593.5 1847,-587.5 1853,-587.5 1853,-587.5 1944,-587.5 1944,-587.5 1950,-587.5 1956,-593.5 1956,-599.5 1956,-599.5 1956,-643.5 1956,-643.5 1956,-649.5 1950,-655.5 1944,-655.5\"/>\n<text text-anchor=\"start\" x=\"1869\" y=\"-640.3\" font-family=\"Helvetica,sans-Serif\" font-size=\"14.00\" fill=\"#000000\">gini = 0.0</text>\n<text text-anchor=\"start\" x=\"1859\" y=\"-625.3\" font-family=\"Helvetica,sans-Serif\" font-size=\"14.00\" fill=\"#000000\">samples = 8</text>\n<text text-anchor=\"start\" x=\"1849\" y=\"-610.3\" font-family=\"Helvetica,sans-Serif\" font-size=\"14.00\" fill=\"#000000\">value = [8, 0, 0]</text>\n<text text-anchor=\"start\" x=\"1853.5\" y=\"-595.3\" font-family=\"Helvetica,sans-Serif\" font-size=\"14.00\" fill=\"#000000\">class = mediu</text>\n</g>\n<!-- 44&#45;&gt;56 -->\n<g id=\"edge56\" class=\"edge\">\n<title>44&#45;&gt;56</title>\n<path fill=\"none\" stroke=\"#000000\" d=\"M1807.4652,-698.8796C1821.3073,-687.1138 1836.3592,-674.3197 1850.1641,-662.5855\"/>\n<polygon fill=\"#000000\" stroke=\"#000000\" points=\"1852.7769,-664.9582 1858.1295,-655.8149 1848.2433,-659.6247 1852.7769,-664.9582\"/>\n</g>\n<!-- 46 -->\n<g id=\"node47\" class=\"node\">\n<title>46</title>\n<path fill=\"#e89152\" stroke=\"#000000\" d=\"M1780.5,-544C1780.5,-544 1620.5,-544 1620.5,-544 1614.5,-544 1608.5,-538 1608.5,-532 1608.5,-532 1608.5,-473 1608.5,-473 1608.5,-467 1614.5,-461 1620.5,-461 1620.5,-461 1780.5,-461 1780.5,-461 1786.5,-461 1792.5,-467 1792.5,-473 1792.5,-473 1792.5,-532 1792.5,-532 1792.5,-538 1786.5,-544 1780.5,-544\"/>\n<text text-anchor=\"start\" x=\"1616.5\" y=\"-528.8\" font-family=\"Helvetica,sans-Serif\" font-size=\"14.00\" fill=\"#000000\">Frecventa casti ≤ 31500.0</text>\n<text text-anchor=\"start\" x=\"1662.5\" y=\"-513.8\" font-family=\"Helvetica,sans-Serif\" font-size=\"14.00\" fill=\"#000000\">gini = 0.198</text>\n<text text-anchor=\"start\" x=\"1661\" y=\"-498.8\" font-family=\"Helvetica,sans-Serif\" font-size=\"14.00\" fill=\"#000000\">samples = 9</text>\n<text text-anchor=\"start\" x=\"1651\" y=\"-483.8\" font-family=\"Helvetica,sans-Serif\" font-size=\"14.00\" fill=\"#000000\">value = [8, 1, 0]</text>\n<text text-anchor=\"start\" x=\"1655.5\" y=\"-468.8\" font-family=\"Helvetica,sans-Serif\" font-size=\"14.00\" fill=\"#000000\">class = mediu</text>\n</g>\n<!-- 45&#45;&gt;46 -->\n<g id=\"edge46\" class=\"edge\">\n<title>45&#45;&gt;46</title>\n<path fill=\"none\" stroke=\"#000000\" d=\"M1738.2144,-579.8796C1734.0443,-571.3236 1729.6091,-562.2238 1725.3003,-553.3833\"/>\n<polygon fill=\"#000000\" stroke=\"#000000\" points=\"1728.3997,-551.7538 1720.8722,-544.2981 1722.1073,-554.8207 1728.3997,-551.7538\"/>\n</g>\n<!-- 55 -->\n<g id=\"node56\" class=\"node\">\n<title>55</title>\n<path fill=\"#39e581\" stroke=\"#000000\" d=\"M1914,-536.5C1914,-536.5 1823,-536.5 1823,-536.5 1817,-536.5 1811,-530.5 1811,-524.5 1811,-524.5 1811,-480.5 1811,-480.5 1811,-474.5 1817,-468.5 1823,-468.5 1823,-468.5 1914,-468.5 1914,-468.5 1920,-468.5 1926,-474.5 1926,-480.5 1926,-480.5 1926,-524.5 1926,-524.5 1926,-530.5 1920,-536.5 1914,-536.5\"/>\n<text text-anchor=\"start\" x=\"1839\" y=\"-521.3\" font-family=\"Helvetica,sans-Serif\" font-size=\"14.00\" fill=\"#000000\">gini = 0.0</text>\n<text text-anchor=\"start\" x=\"1829\" y=\"-506.3\" font-family=\"Helvetica,sans-Serif\" font-size=\"14.00\" fill=\"#000000\">samples = 1</text>\n<text text-anchor=\"start\" x=\"1819\" y=\"-491.3\" font-family=\"Helvetica,sans-Serif\" font-size=\"14.00\" fill=\"#000000\">value = [0, 1, 0]</text>\n<text text-anchor=\"start\" x=\"1832\" y=\"-476.3\" font-family=\"Helvetica,sans-Serif\" font-size=\"14.00\" fill=\"#000000\">class = mic</text>\n</g>\n<!-- 45&#45;&gt;55 -->\n<g id=\"edge55\" class=\"edge\">\n<title>45&#45;&gt;55</title>\n<path fill=\"none\" stroke=\"#000000\" d=\"M1796.9727,-579.8796C1807.6453,-568.3337 1819.2333,-555.7976 1829.9125,-544.2446\"/>\n<polygon fill=\"#000000\" stroke=\"#000000\" points=\"1832.5625,-546.534 1836.7803,-536.8149 1827.4222,-541.7825 1832.5625,-546.534\"/>\n</g>\n<!-- 47 -->\n<g id=\"node48\" class=\"node\">\n<title>47</title>\n<path fill=\"#e58139\" stroke=\"#000000\" d=\"M1717,-417.5C1717,-417.5 1626,-417.5 1626,-417.5 1620,-417.5 1614,-411.5 1614,-405.5 1614,-405.5 1614,-361.5 1614,-361.5 1614,-355.5 1620,-349.5 1626,-349.5 1626,-349.5 1717,-349.5 1717,-349.5 1723,-349.5 1729,-355.5 1729,-361.5 1729,-361.5 1729,-405.5 1729,-405.5 1729,-411.5 1723,-417.5 1717,-417.5\"/>\n<text text-anchor=\"start\" x=\"1642\" y=\"-402.3\" font-family=\"Helvetica,sans-Serif\" font-size=\"14.00\" fill=\"#000000\">gini = 0.0</text>\n<text text-anchor=\"start\" x=\"1632\" y=\"-387.3\" font-family=\"Helvetica,sans-Serif\" font-size=\"14.00\" fill=\"#000000\">samples = 3</text>\n<text text-anchor=\"start\" x=\"1622\" y=\"-372.3\" font-family=\"Helvetica,sans-Serif\" font-size=\"14.00\" fill=\"#000000\">value = [3, 0, 0]</text>\n<text text-anchor=\"start\" x=\"1626.5\" y=\"-357.3\" font-family=\"Helvetica,sans-Serif\" font-size=\"14.00\" fill=\"#000000\">class = mediu</text>\n</g>\n<!-- 46&#45;&gt;47 -->\n<g id=\"edge47\" class=\"edge\">\n<title>46&#45;&gt;47</title>\n<path fill=\"none\" stroke=\"#000000\" d=\"M1690.3572,-460.8796C1687.7311,-450.1034 1684.8948,-438.4647 1682.2392,-427.5677\"/>\n<polygon fill=\"#000000\" stroke=\"#000000\" points=\"1685.6307,-426.7019 1679.8625,-417.8149 1678.8297,-428.3593 1685.6307,-426.7019\"/>\n</g>\n<!-- 48 -->\n<g id=\"node49\" class=\"node\">\n<title>48</title>\n<path fill=\"#ea9a61\" stroke=\"#000000\" d=\"M1850,-425C1850,-425 1759,-425 1759,-425 1753,-425 1747,-419 1747,-413 1747,-413 1747,-354 1747,-354 1747,-348 1753,-342 1759,-342 1759,-342 1850,-342 1850,-342 1856,-342 1862,-348 1862,-354 1862,-354 1862,-413 1862,-413 1862,-419 1856,-425 1850,-425\"/>\n<text text-anchor=\"start\" x=\"1767\" y=\"-409.8\" font-family=\"Helvetica,sans-Serif\" font-size=\"14.00\" fill=\"#000000\">Brand ≤ 5.5</text>\n<text text-anchor=\"start\" x=\"1766.5\" y=\"-394.8\" font-family=\"Helvetica,sans-Serif\" font-size=\"14.00\" fill=\"#000000\">gini = 0.278</text>\n<text text-anchor=\"start\" x=\"1765\" y=\"-379.8\" font-family=\"Helvetica,sans-Serif\" font-size=\"14.00\" fill=\"#000000\">samples = 6</text>\n<text text-anchor=\"start\" x=\"1755\" y=\"-364.8\" font-family=\"Helvetica,sans-Serif\" font-size=\"14.00\" fill=\"#000000\">value = [5, 1, 0]</text>\n<text text-anchor=\"start\" x=\"1759.5\" y=\"-349.8\" font-family=\"Helvetica,sans-Serif\" font-size=\"14.00\" fill=\"#000000\">class = mediu</text>\n</g>\n<!-- 46&#45;&gt;48 -->\n<g id=\"edge48\" class=\"edge\">\n<title>46&#45;&gt;48</title>\n<path fill=\"none\" stroke=\"#000000\" d=\"M1736.8742,-460.8796C1744.7452,-451.8733 1753.1429,-442.2644 1761.2485,-432.9897\"/>\n<polygon fill=\"#000000\" stroke=\"#000000\" points=\"1764.0254,-435.131 1767.9706,-425.2981 1758.7546,-430.5246 1764.0254,-435.131\"/>\n</g>\n<!-- 49 -->\n<g id=\"node50\" class=\"node\">\n<title>49</title>\n<path fill=\"#eeab7b\" stroke=\"#000000\" d=\"M1787,-306C1787,-306 1682,-306 1682,-306 1676,-306 1670,-300 1670,-294 1670,-294 1670,-235 1670,-235 1670,-229 1676,-223 1682,-223 1682,-223 1787,-223 1787,-223 1793,-223 1799,-229 1799,-235 1799,-235 1799,-294 1799,-294 1799,-300 1793,-306 1787,-306\"/>\n<text text-anchor=\"start\" x=\"1678\" y=\"-290.8\" font-family=\"Helvetica,sans-Serif\" font-size=\"14.00\" fill=\"#000000\">Impedanta ≤ 33.5</text>\n<text text-anchor=\"start\" x=\"1696.5\" y=\"-275.8\" font-family=\"Helvetica,sans-Serif\" font-size=\"14.00\" fill=\"#000000\">gini = 0.375</text>\n<text text-anchor=\"start\" x=\"1695\" y=\"-260.8\" font-family=\"Helvetica,sans-Serif\" font-size=\"14.00\" fill=\"#000000\">samples = 4</text>\n<text text-anchor=\"start\" x=\"1685\" y=\"-245.8\" font-family=\"Helvetica,sans-Serif\" font-size=\"14.00\" fill=\"#000000\">value = [3, 1, 0]</text>\n<text text-anchor=\"start\" x=\"1689.5\" y=\"-230.8\" font-family=\"Helvetica,sans-Serif\" font-size=\"14.00\" fill=\"#000000\">class = mediu</text>\n</g>\n<!-- 48&#45;&gt;49 -->\n<g id=\"edge49\" class=\"edge\">\n<title>48&#45;&gt;49</title>\n<path fill=\"none\" stroke=\"#000000\" d=\"M1780.0174,-341.8796C1774.9315,-333.2335 1769.5189,-324.0322 1764.2672,-315.1042\"/>\n<polygon fill=\"#000000\" stroke=\"#000000\" points=\"1767.1741,-313.1428 1759.0871,-306.2981 1761.1406,-316.692 1767.1741,-313.1428\"/>\n</g>\n<!-- 54 -->\n<g id=\"node55\" class=\"node\">\n<title>54</title>\n<path fill=\"#e58139\" stroke=\"#000000\" d=\"M1920,-298.5C1920,-298.5 1829,-298.5 1829,-298.5 1823,-298.5 1817,-292.5 1817,-286.5 1817,-286.5 1817,-242.5 1817,-242.5 1817,-236.5 1823,-230.5 1829,-230.5 1829,-230.5 1920,-230.5 1920,-230.5 1926,-230.5 1932,-236.5 1932,-242.5 1932,-242.5 1932,-286.5 1932,-286.5 1932,-292.5 1926,-298.5 1920,-298.5\"/>\n<text text-anchor=\"start\" x=\"1845\" y=\"-283.3\" font-family=\"Helvetica,sans-Serif\" font-size=\"14.00\" fill=\"#000000\">gini = 0.0</text>\n<text text-anchor=\"start\" x=\"1835\" y=\"-268.3\" font-family=\"Helvetica,sans-Serif\" font-size=\"14.00\" fill=\"#000000\">samples = 2</text>\n<text text-anchor=\"start\" x=\"1825\" y=\"-253.3\" font-family=\"Helvetica,sans-Serif\" font-size=\"14.00\" fill=\"#000000\">value = [2, 0, 0]</text>\n<text text-anchor=\"start\" x=\"1829.5\" y=\"-238.3\" font-family=\"Helvetica,sans-Serif\" font-size=\"14.00\" fill=\"#000000\">class = mediu</text>\n</g>\n<!-- 48&#45;&gt;54 -->\n<g id=\"edge54\" class=\"edge\">\n<title>48&#45;&gt;54</title>\n<path fill=\"none\" stroke=\"#000000\" d=\"M1828.9826,-341.8796C1835.5156,-330.7735 1842.5875,-318.7513 1849.1652,-307.5691\"/>\n<polygon fill=\"#000000\" stroke=\"#000000\" points=\"1852.2613,-309.2089 1854.3147,-298.8149 1846.2277,-305.6597 1852.2613,-309.2089\"/>\n</g>\n<!-- 50 -->\n<g id=\"node51\" class=\"node\">\n<title>50</title>\n<path fill=\"#f2c09c\" stroke=\"#000000\" d=\"M1735,-187C1735,-187 1558,-187 1558,-187 1552,-187 1546,-181 1546,-175 1546,-175 1546,-116 1546,-116 1546,-110 1552,-104 1558,-104 1558,-104 1735,-104 1735,-104 1741,-104 1747,-110 1747,-116 1747,-116 1747,-175 1747,-175 1747,-181 1741,-187 1735,-187\"/>\n<text text-anchor=\"start\" x=\"1554\" y=\"-171.8\" font-family=\"Helvetica,sans-Serif\" font-size=\"14.00\" fill=\"#000000\">Frecventa microfon ≤ 9000.0</text>\n<text text-anchor=\"start\" x=\"1608.5\" y=\"-156.8\" font-family=\"Helvetica,sans-Serif\" font-size=\"14.00\" fill=\"#000000\">gini = 0.444</text>\n<text text-anchor=\"start\" x=\"1607\" y=\"-141.8\" font-family=\"Helvetica,sans-Serif\" font-size=\"14.00\" fill=\"#000000\">samples = 3</text>\n<text text-anchor=\"start\" x=\"1597\" y=\"-126.8\" font-family=\"Helvetica,sans-Serif\" font-size=\"14.00\" fill=\"#000000\">value = [2, 1, 0]</text>\n<text text-anchor=\"start\" x=\"1601.5\" y=\"-111.8\" font-family=\"Helvetica,sans-Serif\" font-size=\"14.00\" fill=\"#000000\">class = mediu</text>\n</g>\n<!-- 49&#45;&gt;50 -->\n<g id=\"edge50\" class=\"edge\">\n<title>49&#45;&gt;50</title>\n<path fill=\"none\" stroke=\"#000000\" d=\"M1703.7219,-222.8796C1697.1949,-214.0534 1690.2401,-204.6485 1683.5092,-195.5466\"/>\n<polygon fill=\"#000000\" stroke=\"#000000\" points=\"1686.1695,-193.2574 1677.4095,-187.2981 1680.5412,-197.4195 1686.1695,-193.2574\"/>\n</g>\n<!-- 53 -->\n<g id=\"node54\" class=\"node\">\n<title>53</title>\n<path fill=\"#e58139\" stroke=\"#000000\" d=\"M1868,-179.5C1868,-179.5 1777,-179.5 1777,-179.5 1771,-179.5 1765,-173.5 1765,-167.5 1765,-167.5 1765,-123.5 1765,-123.5 1765,-117.5 1771,-111.5 1777,-111.5 1777,-111.5 1868,-111.5 1868,-111.5 1874,-111.5 1880,-117.5 1880,-123.5 1880,-123.5 1880,-167.5 1880,-167.5 1880,-173.5 1874,-179.5 1868,-179.5\"/>\n<text text-anchor=\"start\" x=\"1793\" y=\"-164.3\" font-family=\"Helvetica,sans-Serif\" font-size=\"14.00\" fill=\"#000000\">gini = 0.0</text>\n<text text-anchor=\"start\" x=\"1783\" y=\"-149.3\" font-family=\"Helvetica,sans-Serif\" font-size=\"14.00\" fill=\"#000000\">samples = 1</text>\n<text text-anchor=\"start\" x=\"1773\" y=\"-134.3\" font-family=\"Helvetica,sans-Serif\" font-size=\"14.00\" fill=\"#000000\">value = [1, 0, 0]</text>\n<text text-anchor=\"start\" x=\"1777.5\" y=\"-119.3\" font-family=\"Helvetica,sans-Serif\" font-size=\"14.00\" fill=\"#000000\">class = mediu</text>\n</g>\n<!-- 49&#45;&gt;53 -->\n<g id=\"edge53\" class=\"edge\">\n<title>49&#45;&gt;53</title>\n<path fill=\"none\" stroke=\"#000000\" d=\"M1765.2781,-222.8796C1773.6536,-211.5536 1782.7338,-199.2748 1791.1411,-187.9058\"/>\n<polygon fill=\"#000000\" stroke=\"#000000\" points=\"1793.9925,-189.9364 1797.1242,-179.8149 1788.3643,-185.7743 1793.9925,-189.9364\"/>\n</g>\n<!-- 51 -->\n<g id=\"node52\" class=\"node\">\n<title>51</title>\n<path fill=\"#e58139\" stroke=\"#000000\" d=\"M1625,-68C1625,-68 1534,-68 1534,-68 1528,-68 1522,-62 1522,-56 1522,-56 1522,-12 1522,-12 1522,-6 1528,0 1534,0 1534,0 1625,0 1625,0 1631,0 1637,-6 1637,-12 1637,-12 1637,-56 1637,-56 1637,-62 1631,-68 1625,-68\"/>\n<text text-anchor=\"start\" x=\"1550\" y=\"-52.8\" font-family=\"Helvetica,sans-Serif\" font-size=\"14.00\" fill=\"#000000\">gini = 0.0</text>\n<text text-anchor=\"start\" x=\"1540\" y=\"-37.8\" font-family=\"Helvetica,sans-Serif\" font-size=\"14.00\" fill=\"#000000\">samples = 1</text>\n<text text-anchor=\"start\" x=\"1530\" y=\"-22.8\" font-family=\"Helvetica,sans-Serif\" font-size=\"14.00\" fill=\"#000000\">value = [1, 0, 0]</text>\n<text text-anchor=\"start\" x=\"1534.5\" y=\"-7.8\" font-family=\"Helvetica,sans-Serif\" font-size=\"14.00\" fill=\"#000000\">class = mediu</text>\n</g>\n<!-- 50&#45;&gt;51 -->\n<g id=\"edge51\" class=\"edge\">\n<title>50&#45;&gt;51</title>\n<path fill=\"none\" stroke=\"#000000\" d=\"M1621.5517,-103.9815C1616.2499,-95.1585 1610.6419,-85.8258 1605.3089,-76.9506\"/>\n<polygon fill=\"#000000\" stroke=\"#000000\" points=\"1608.2396,-75.0325 1600.0889,-68.2637 1602.2395,-78.638 1608.2396,-75.0325\"/>\n</g>\n<!-- 52 -->\n<g id=\"node53\" class=\"node\">\n<title>52</title>\n<path fill=\"#ffffff\" stroke=\"#000000\" d=\"M1758,-68C1758,-68 1667,-68 1667,-68 1661,-68 1655,-62 1655,-56 1655,-56 1655,-12 1655,-12 1655,-6 1661,0 1667,0 1667,0 1758,0 1758,0 1764,0 1770,-6 1770,-12 1770,-12 1770,-56 1770,-56 1770,-62 1764,-68 1758,-68\"/>\n<text text-anchor=\"start\" x=\"1683\" y=\"-52.8\" font-family=\"Helvetica,sans-Serif\" font-size=\"14.00\" fill=\"#000000\">gini = 0.5</text>\n<text text-anchor=\"start\" x=\"1673\" y=\"-37.8\" font-family=\"Helvetica,sans-Serif\" font-size=\"14.00\" fill=\"#000000\">samples = 2</text>\n<text text-anchor=\"start\" x=\"1663\" y=\"-22.8\" font-family=\"Helvetica,sans-Serif\" font-size=\"14.00\" fill=\"#000000\">value = [1, 1, 0]</text>\n<text text-anchor=\"start\" x=\"1667.5\" y=\"-7.8\" font-family=\"Helvetica,sans-Serif\" font-size=\"14.00\" fill=\"#000000\">class = mediu</text>\n</g>\n<!-- 50&#45;&gt;52 -->\n<g id=\"edge52\" class=\"edge\">\n<title>50&#45;&gt;52</title>\n<path fill=\"none\" stroke=\"#000000\" d=\"M1671.076,-103.9815C1676.2986,-95.1585 1681.8229,-85.8258 1687.0763,-76.9506\"/>\n<polygon fill=\"#000000\" stroke=\"#000000\" points=\"1690.1364,-78.652 1692.2184,-68.2637 1684.1126,-75.0863 1690.1364,-78.652\"/>\n</g>\n</g>\n</svg>\n"
          },
          "metadata": {},
          "execution_count": 18
        }
      ]
    },
    {
      "cell_type": "code",
      "source": [
        "from sklearn.tree import export_text\n",
        "r = export_text(model, feature_names=feature_names)\n",
        "print(r)"
      ],
      "metadata": {
        "colab": {
          "base_uri": "https://localhost:8080/"
        },
        "id": "nqdXVGoXyIGe",
        "outputId": "fb20f9d2-ee95-4e70-8d37-ec5c5226212f"
      },
      "execution_count": 19,
      "outputs": [
        {
          "output_type": "stream",
          "name": "stdout",
          "text": [
            "|--- Frecventa casti <= 20500.00\n",
            "|   |--- Brand <= 2.50\n",
            "|   |   |--- Brand <= 1.50\n",
            "|   |   |   |--- Frecventa microfon <= 7250.00\n",
            "|   |   |   |   |--- class: mic\n",
            "|   |   |   |--- Frecventa microfon >  7250.00\n",
            "|   |   |   |   |--- Impedanta <= 33.50\n",
            "|   |   |   |   |   |--- class: mediu\n",
            "|   |   |   |   |--- Impedanta >  33.50\n",
            "|   |   |   |   |   |--- Impedanta <= 35.50\n",
            "|   |   |   |   |   |   |--- class: mare\n",
            "|   |   |   |   |   |--- Impedanta >  35.50\n",
            "|   |   |   |   |   |   |--- Frecventa microfon <= 9000.00\n",
            "|   |   |   |   |   |   |   |--- class: mediu\n",
            "|   |   |   |   |   |   |--- Frecventa microfon >  9000.00\n",
            "|   |   |   |   |   |   |   |--- Impedanta <= 37.50\n",
            "|   |   |   |   |   |   |   |   |--- class: mare\n",
            "|   |   |   |   |   |   |   |--- Impedanta >  37.50\n",
            "|   |   |   |   |   |   |   |   |--- class: mare\n",
            "|   |   |--- Brand >  1.50\n",
            "|   |   |   |--- Impedanta <= 36.00\n",
            "|   |   |   |   |--- Impedanta <= 32.50\n",
            "|   |   |   |   |   |--- Frecventa microfon <= 9000.00\n",
            "|   |   |   |   |   |   |--- class: mare\n",
            "|   |   |   |   |   |--- Frecventa microfon >  9000.00\n",
            "|   |   |   |   |   |   |--- class: mare\n",
            "|   |   |   |   |--- Impedanta >  32.50\n",
            "|   |   |   |   |   |--- class: mare\n",
            "|   |   |   |--- Impedanta >  36.00\n",
            "|   |   |   |   |--- Frecventa microfon <= 11000.00\n",
            "|   |   |   |   |   |--- class: mediu\n",
            "|   |   |   |   |--- Frecventa microfon >  11000.00\n",
            "|   |   |   |   |   |--- class: mare\n",
            "|   |--- Brand >  2.50\n",
            "|   |   |--- Brand <= 4.50\n",
            "|   |   |   |--- Impedanta <= 50.10\n",
            "|   |   |   |   |--- Frecventa microfon <= 12500.00\n",
            "|   |   |   |   |   |--- Impedanta <= 26.00\n",
            "|   |   |   |   |   |   |--- class: mediu\n",
            "|   |   |   |   |   |--- Impedanta >  26.00\n",
            "|   |   |   |   |   |   |--- Frecventa microfon <= 7250.00\n",
            "|   |   |   |   |   |   |   |--- class: mic\n",
            "|   |   |   |   |   |   |--- Frecventa microfon >  7250.00\n",
            "|   |   |   |   |   |   |   |--- Frecventa microfon <= 8350.00\n",
            "|   |   |   |   |   |   |   |   |--- class: mediu\n",
            "|   |   |   |   |   |   |   |--- Frecventa microfon >  8350.00\n",
            "|   |   |   |   |   |   |   |   |--- class: mic\n",
            "|   |   |   |   |--- Frecventa microfon >  12500.00\n",
            "|   |   |   |   |   |--- class: mic\n",
            "|   |   |   |--- Impedanta >  50.10\n",
            "|   |   |   |   |--- class: mediu\n",
            "|   |   |--- Brand >  4.50\n",
            "|   |   |   |--- Frecventa microfon <= 9100.00\n",
            "|   |   |   |   |--- class: mare\n",
            "|   |   |   |--- Frecventa microfon >  9100.00\n",
            "|   |   |   |   |--- Brand <= 5.50\n",
            "|   |   |   |   |   |--- class: mediu\n",
            "|   |   |   |   |--- Brand >  5.50\n",
            "|   |   |   |   |   |--- class: mare\n",
            "|--- Frecventa casti >  20500.00\n",
            "|   |--- Brand <= 2.50\n",
            "|   |   |--- Impedanta <= 34.00\n",
            "|   |   |   |--- class: mediu\n",
            "|   |   |--- Impedanta >  34.00\n",
            "|   |   |   |--- class: mic\n",
            "|   |--- Brand >  2.50\n",
            "|   |   |--- Frecventa microfon <= 11000.00\n",
            "|   |   |   |--- Impedanta <= 63.50\n",
            "|   |   |   |   |--- Frecventa casti <= 31500.00\n",
            "|   |   |   |   |   |--- class: mare\n",
            "|   |   |   |   |--- Frecventa casti >  31500.00\n",
            "|   |   |   |   |   |--- Brand <= 5.50\n",
            "|   |   |   |   |   |   |--- Impedanta <= 33.50\n",
            "|   |   |   |   |   |   |   |--- Frecventa microfon <= 9000.00\n",
            "|   |   |   |   |   |   |   |   |--- class: mare\n",
            "|   |   |   |   |   |   |   |--- Frecventa microfon >  9000.00\n",
            "|   |   |   |   |   |   |   |   |--- class: mare\n",
            "|   |   |   |   |   |   |--- Impedanta >  33.50\n",
            "|   |   |   |   |   |   |   |--- class: mare\n",
            "|   |   |   |   |   |--- Brand >  5.50\n",
            "|   |   |   |   |   |   |--- class: mare\n",
            "|   |   |   |--- Impedanta >  63.50\n",
            "|   |   |   |   |--- class: mediu\n",
            "|   |   |--- Frecventa microfon >  11000.00\n",
            "|   |   |   |--- class: mare\n",
            "\n"
          ]
        }
      ]
    },
    {
      "cell_type": "code",
      "source": [
        "graph.save('graph1.jpg')"
      ],
      "metadata": {
        "colab": {
          "base_uri": "https://localhost:8080/",
          "height": 36
        },
        "id": "MiXOJv_zyNOx",
        "outputId": "3071e6dc-9b91-4c8b-8619-17e6474f5d0e"
      },
      "execution_count": 20,
      "outputs": [
        {
          "output_type": "execute_result",
          "data": {
            "text/plain": [
              "'graph1.jpg'"
            ],
            "application/vnd.google.colaboratory.intrinsic+json": {
              "type": "string"
            }
          },
          "metadata": {},
          "execution_count": 20
        }
      ]
    }
  ]
}